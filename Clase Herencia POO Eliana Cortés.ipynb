{
 "cells": [
  {
   "cell_type": "markdown",
   "metadata": {},
   "source": [
    "CLASE HERENCIA"
   ]
  },
  {
   "cell_type": "code",
   "execution_count": 1,
   "metadata": {},
   "outputs": [],
   "source": [
    "class Espadas():\n",
    "    nombre=\"Soy una espada\"\n",
    "    daño=\"Causo daño\"\n",
    "    def __init__(self,nombre,daño):\n",
    "        self.nombre=nombre\n",
    "        self.daño=daño\n",
    "\n",
    "    def __repr__(self):\n",
    "        return f\"Espada de:{self.nombre}, y causa: {self.daño} de daño\"\n"
   ]
  },
  {
   "cell_type": "code",
   "execution_count": 2,
   "metadata": {},
   "outputs": [],
   "source": [
    "class Espada_elemental(Espadas):\n",
    "    def masatributos(self,elemento,tamaño,durabilidad,color):\n",
    "        self.elemento=elemento\n",
    "        self.tamaño=tamaño\n",
    "        self.durabilidad=durabilidad\n",
    "        self.color=color"
   ]
  },
  {
   "cell_type": "code",
   "execution_count": 3,
   "metadata": {},
   "outputs": [],
   "source": [
    "espada1=Espada_elemental(\"Espada de fuego\", 200)"
   ]
  },
  {
   "cell_type": "code",
   "execution_count": 4,
   "metadata": {},
   "outputs": [
    {
     "name": "stdout",
     "output_type": "stream",
     "text": [
      "Espada de:Espada de fuego, y causa: 200 de daño\n"
     ]
    }
   ],
   "source": [
    "print(espada1)"
   ]
  },
  {
   "cell_type": "code",
   "execution_count": 5,
   "metadata": {},
   "outputs": [],
   "source": [
    "espada1.masatributos(\"fuego\",25,100,\"rojo\")"
   ]
  },
  {
   "cell_type": "code",
   "execution_count": 6,
   "metadata": {},
   "outputs": [
    {
     "data": {
      "text/plain": [
       "{'nombre': 'Espada de fuego',\n",
       " 'daño': 200,\n",
       " 'elemento': 'fuego',\n",
       " 'tamaño': 25,\n",
       " 'durabilidad': 100,\n",
       " 'color': 'rojo'}"
      ]
     },
     "execution_count": 6,
     "metadata": {},
     "output_type": "execute_result"
    }
   ],
   "source": [
    "espada1.__dict__"
   ]
  },
  {
   "cell_type": "code",
   "execution_count": 2,
   "metadata": {},
   "outputs": [],
   "source": [
    "class Miespada():\n",
    "  nombre ='La espada de la Suerte'\n",
    "  poder ='Suerte'\n",
    "\n",
    "  def __init__(self, nombre,poder,sexo,tamaño):\n",
    "    self.nombre=nombre\n",
    "    self.poder=poder\n",
    "    \n",
    "  def __repr__(self):\n",
    "    return f'soy: {self.nombre}, doy: {self.poder}'"
   ]
  },
  {
   "cell_type": "code",
   "execution_count": 3,
   "metadata": {},
   "outputs": [],
   "source": [
    "class Humano():\n",
    "  def __init__(self,nombre,edad,cuerpo,piernas,brazos,ojos,cabello,nariz,color_piel):\n",
    "    self.nombre=nombre\n",
    "    self.edad=edad\n",
    "    self.cuerpo=cuerpo\n",
    "    self.piernas=piernas\n",
    "    self.brazos=brazos\n",
    "    self.ojos=ojos\n",
    "    self.cabello=cabello\n",
    "    self.nariz=nariz\n",
    "    self.color_piel=color_piel\n",
    "  def caminar(self,aceleracion,velocidad):\n",
    "    if velocidad>0.5 and velocidad<1:\n",
    "      return f\"{self.nombre} está gateando\"\n",
    "    if velocidad>2 and velocidad<4:\n",
    "      return f\"{self.nombre} está caminando\"    \n",
    "    if velocidad>=5 and velocidad<7:\n",
    "      return f\"{self.nombre} está trotando\"\n",
    "    if velocidad>=7 and velocidad<10:\n",
    "      return f\"{self.nombre} está corriendo\"\n",
    "    if velocidad>=1 and velocidad<2:\n",
    "      return f\"{self.nombre} está cojeando\"\n",
    "    else:\n",
    "      return f\"{self.nombre} está trotando\"\n",
    "\n",
    "  def comer(self,saciedad):\n",
    "    if saciedad==0:\n",
    "      return f\"{self.nombre} tengo hambre\"\n",
    "    if saciedad>0 and saciedad<1:\n",
    "      return f\"{self.nombre} sigo con hambre pero no tanto\"\n",
    "    if saciedad>=1 and saciedad<1:\n",
    "      return f\"{self.nombre} estoy algo saciado\"\n",
    "    if saciedad>=2 and saciedad<4:\n",
    "      return f\"{self.nombre} estoy bien\"\n",
    "    else:\n",
    "      return f\"{self.nombre} estoy lleno bien\""
   ]
  },
  {
   "cell_type": "code",
   "execution_count": 4,
   "metadata": {},
   "outputs": [
    {
     "data": {
      "text/plain": [
       "{'nombre': 'giren',\n",
       " 'edad': 16,\n",
       " 'cuerpo': 'delgadogordo',\n",
       " 'piernas': 2,\n",
       " 'brazos': 2,\n",
       " 'ojos': 'azules',\n",
       " 'cabello': 'rubio y corto',\n",
       " 'nariz': 1,\n",
       " 'color_piel': 'negro'}"
      ]
     },
     "execution_count": 4,
     "metadata": {},
     "output_type": "execute_result"
    }
   ],
   "source": [
    "esudiante=Humano('giren',16,'delgadogordo',2,2,'azules','rubio y corto',1,'negro')\n",
    "esudiante.__dict__"
   ]
  },
  {
   "cell_type": "code",
   "execution_count": 5,
   "metadata": {},
   "outputs": [
    {
     "data": {
      "text/plain": [
       "'giren está trotando'"
      ]
     },
     "execution_count": 5,
     "metadata": {},
     "output_type": "execute_result"
    }
   ],
   "source": [
    "esudiante.caminar(10,2)"
   ]
  }
 ],
 "metadata": {
  "kernelspec": {
   "display_name": "Python 3.10.6 64-bit",
   "language": "python",
   "name": "python3"
  },
  "language_info": {
   "codemirror_mode": {
    "name": "ipython",
    "version": 3
   },
   "file_extension": ".py",
   "mimetype": "text/x-python",
   "name": "python",
   "nbconvert_exporter": "python",
   "pygments_lexer": "ipython3",
   "version": "3.10.6"
  },
  "orig_nbformat": 4,
  "vscode": {
   "interpreter": {
    "hash": "1cd17f5141b21e2ef08553ce546070aafbc3c3871eba7bcf9fa425af824b01f9"
   }
  }
 },
 "nbformat": 4,
 "nbformat_minor": 2
}
