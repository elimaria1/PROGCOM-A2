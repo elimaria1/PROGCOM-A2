{
  "cells": [
    {
      "cell_type": "code",
      "execution_count": 15,
      "metadata": {
        "colab": {
          "base_uri": "https://localhost:8080/"
        },
        "id": "cdPaeqEvKBkL",
        "outputId": "5d9e8583-7b36-49af-af54-5a19bc56ca74"
      },
      "outputs": [
        {
          "output_type": "stream",
          "name": "stdout",
          "text": [
            "Ingresa la palabra :biri\n",
            "casa\n"
          ]
        }
      ],
      "source": [
        "def desencriptar(frase):\n",
        "  desencriptada=\"\"\n",
        "  for letra in frase:\n",
        "\n",
        "    #VOCALES 2 hacia atrás\n",
        "    if letra in \"a\": #a se vuelve o\n",
        "      desencriptada=desencriptada+\"o\"\n",
        "\n",
        "    elif letra in \"e\": #e se vuelve u\n",
        "      desencriptada=desencriptada+\"u\"\n",
        "\n",
        "    elif letra in \"i\": #i se vuelve a \n",
        "      desencriptada=desencriptada+\"a\"\n",
        "\n",
        "    elif letra in \"o\": #o se vuelve e\n",
        "      desencriptada=desencriptada+\"e\"\n",
        "\n",
        "    elif letra in \"u\": # u se vuelve i\n",
        "      desencriptada=desencriptada+\"i\"\n",
        "\n",
        "    #CONSONANTES 1 hacia adelante\n",
        "\n",
        "    elif letra in \"b\": # b se vuelve c\n",
        "      desencriptada=desencriptada+\"c\"\n",
        "\n",
        "    elif letra in \"c\": # c se vuelve d\n",
        "      desencriptada=desencriptada+\"d\"\n",
        "\n",
        "    elif letra in \"d\": # d se vuelve f\n",
        "      desencriptada=desencriptada+\"f\"\n",
        "    \n",
        "    elif letra in \"f\": # f se vuelve g\n",
        "      desencriptada=desencriptada+\"g\"\n",
        "\n",
        "    elif letra in \"g\": # g se vuelve h\n",
        "      desencriptada=desencriptada+\"h\"\n",
        "    \n",
        "    elif letra in \"h\": # h se vuelve j\n",
        "      desencriptada=desencriptada+\"j\"\n",
        "    \n",
        "    elif letra in \"j\": # j se vuelve k\n",
        "      desencriptada=desencriptada+\"k\"\n",
        "    \n",
        "    elif letra in \"k\": # k se vuelve l\n",
        "      desencriptada=desencriptada+\"l\"\n",
        "    \n",
        "    elif letra in \"l\": # l se vuelve m\n",
        "      desencriptada=desencriptada+\"m\"\n",
        "\n",
        "    elif letra in \"m\": # m se vuelve n\n",
        "      desencriptada=desencriptada+\"n\"\n",
        "    \n",
        "    elif letra in \"n\": # n se vuelve ñ\n",
        "      desencriptada=desencriptada+\"ñ\"\n",
        "    \n",
        "    elif letra in \"ñ\": # ñ se vuelve p\n",
        "      desencriptada=desencriptada+\"p\"\n",
        "\n",
        "    elif letra in \"p\": # p se vuelve q\n",
        "      desencriptada=desencriptada+\"q\"    \n",
        "    \n",
        "    elif letra in \"q\": # q se vuelve r\n",
        "      desencriptada=desencriptada+\"r\" \n",
        "\n",
        "    elif letra in \"r\": # r se vuelve s\n",
        "      desencriptada=desencriptada+\"s\"   \n",
        "\n",
        "    elif letra in \"s\": # s se vuelve t\n",
        "      desencriptada=desencriptada+\"t\"  \n",
        "\n",
        "    elif letra in \"t\": # t se vuelve v\n",
        "      desencriptada=desencriptada+\"v\" \n",
        "\n",
        "    elif letra in \"v\": # v se vuelve w\n",
        "      desencriptada=desencriptada+\"w\" \n",
        "\n",
        "    elif letra in \"w\": # w se vuelve x\n",
        "      desencriptada=desencriptada+\"x\" \n",
        "\n",
        "    elif letra in \"x\": # x se vuelve y\n",
        "      desencriptada=desencriptada+\"y\" \n",
        "\n",
        "    elif letra in \"y\": # y se vuelve z\n",
        "      desencriptada=desencriptada+\"z\" \n",
        "\n",
        "    elif letra in \"z\": # z se vuelve b\n",
        "      desencriptada=desencriptada+\"b\" \n",
        "\n",
        "  return desencriptada\n",
        "\n",
        "print(desencriptar(input(\"Ingresa la palabra :\")))\n",
        "\n"
      ]
    }
  ],
  "metadata": {
    "kernelspec": {
      "display_name": "Python 3.10.6 64-bit",
      "language": "python",
      "name": "python3"
    },
    "language_info": {
      "codemirror_mode": {
        "name": "ipython",
        "version": 3
      },
      "file_extension": ".py",
      "mimetype": "text/x-python",
      "name": "python",
      "nbconvert_exporter": "python",
      "pygments_lexer": "ipython3",
      "version": "3.10.6"
    },
    "orig_nbformat": 4,
    "vscode": {
      "interpreter": {
        "hash": "1cd17f5141b21e2ef08553ce546070aafbc3c3871eba7bcf9fa425af824b01f9"
      }
    },
    "colab": {
      "provenance": []
    }
  },
  "nbformat": 4,
  "nbformat_minor": 0
}