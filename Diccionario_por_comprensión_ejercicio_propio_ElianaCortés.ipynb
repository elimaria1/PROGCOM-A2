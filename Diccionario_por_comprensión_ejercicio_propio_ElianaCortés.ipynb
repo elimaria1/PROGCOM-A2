{
 "cells": [
  {
   "cell_type": "markdown",
   "metadata": {},
   "source": [
    "Diccionario por comprensión"
   ]
  },
  {
   "cell_type": "code",
   "execution_count": 82,
   "metadata": {},
   "outputs": [
    {
     "name": "stdout",
     "output_type": "stream",
     "text": [
      "{'Sunday': 30.5, 'Monday': 32.6, 'Tuesday': 31.8, 'Wednesday': 33.4, 'Thursday': 29.8, 'Friday': 30.2, 'Saturday': 29.9}\n"
     ]
    }
   ],
   "source": [
    "dias =[\"Sunday\",\"Monday\",\"Tuesday\",\"Wednesday\",\"Thursday\",\"Friday\",\"Saturday\"]\n",
    "temp = [30.5,32.6,31.8,33.4,29.8,30.2,29.9]\n",
    "\n",
    "#Temperatura por día de la semana\n",
    "\n",
    "temp_semanal = {dias:temp for (dias,temp) in zip(dias,temp)}\n",
    "\n",
    "print(temp_semanal)\n"
   ]
  },
  {
   "cell_type": "code",
   "execution_count": 91,
   "metadata": {},
   "outputs": [
    {
     "name": "stdout",
     "output_type": "stream",
     "text": [
      "('Bucaramanga', 'Lunes', 30.5)\n",
      "('Bogotá', 'Martes', 32.6)\n",
      "('Medellín', 'Miércoles', 31.8)\n",
      "('Cali', 'Jueves', 33.4)\n",
      "('Villavicencio', 'Viernes', 29.8)\n",
      "('Ciénaga', 'Sábado', 30.2)\n",
      "('Pasto', 'Domingo', 29.9)\n"
     ]
    }
   ],
   "source": [
    "dias =[\"Lunes\",\"Martes\",\"Miércoles\",\"Jueves\",\"Viernes\",\"Sábado\",\"Domingo\"]\n",
    "temp = [30.5,32.6,31.8,33.4,29.8,30.2,29.9]\n",
    "ciu=[\"Bucaramanga\",\"Bogotá\",\"Medellín\",\"Cali\",\"Villavicencio\",\"Ciénaga\",\"Pasto\"]\n",
    "\n",
    "Temp=zip(ciu,dias,temp)\n",
    "\n",
    "for i in Temp:\n",
    "    print(i)\n",
    "\n"
   ]
  },
  {
   "cell_type": "markdown",
   "metadata": {},
   "source": [
    "#ESTE ES MI EJERCICIO"
   ]
  },
  {
   "cell_type": "code",
   "execution_count": 93,
   "metadata": {},
   "outputs": [
    {
     "name": "stdout",
     "output_type": "stream",
     "text": [
      "{'Lunes': [30.5, 'Bucaramanga'], 'Martes': [32.6, 'Bogotá'], 'Miércoles': [31.8, 'Medellín'], 'Jueves': [33.4, 'Cali'], 'Viernes': [29.8, 'Villavicencio'], 'Sábado': [30.2, 'Ciénaga'], 'Domingo': [29.9, 'Pasto']}\n"
     ]
    }
   ],
   "source": [
    "#Temperatura por día de la semana en una ciudad determinada\n",
    "\n",
    "Datos = {\"Lunes\": [30.5, \"Bucaramanga\"],\n",
    "        \"Martes\": [32.6, \"Bogotá\"],\n",
    "        \"Miércoles\": [31.8, \"Medellín\"],\n",
    "        \"Jueves\": [33.4, \"Cali\"],\n",
    "        \"Viernes\": [29.8, \"Villavicencio\"],\n",
    "        \"Sábado\": [30.2, \"Ciénaga\"],\n",
    "        \"Domingo\": [29.9, \"Pasto\"]}\n",
    "\n",
    "print(Datos)"
   ]
  }
 ],
 "metadata": {
  "kernelspec": {
   "display_name": "Python 3.10.5 64-bit",
   "language": "python",
   "name": "python3"
  },
  "language_info": {
   "codemirror_mode": {
    "name": "ipython",
    "version": 3
   },
   "file_extension": ".py",
   "mimetype": "text/x-python",
   "name": "python",
   "nbconvert_exporter": "python",
   "pygments_lexer": "ipython3",
   "version": "3.10.5"
  },
  "orig_nbformat": 4,
  "vscode": {
   "interpreter": {
    "hash": "c30c4a739aaee54d705c2fb42ad4fb49eca0c81ae923e6c0e0c7ad77352b4426"
   }
  }
 },
 "nbformat": 4,
 "nbformat_minor": 2
}
