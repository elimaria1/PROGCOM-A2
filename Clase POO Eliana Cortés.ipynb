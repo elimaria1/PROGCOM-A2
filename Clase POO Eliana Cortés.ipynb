{
  "cells": [
    {
      "cell_type": "markdown",
      "metadata": {
        "id": "platuBihDgN2"
      },
      "source": [
        "#POO o programación orientada a objetos\n",
        "\n",
        "Clase es como un molde\n",
        "\n",
        "*   Variables > atributos\n",
        "*   Funciones > métodos\n",
        "\n",
        "\n",
        "*   Constructor > sustituye una clase\n",
        "*   Objetos: comparten atributos, métodos, relaciones que tienen una identidad propia\n",
        "\n",
        "\n",
        "\n"
      ]
    },
    {
      "cell_type": "code",
      "execution_count": 1,
      "metadata": {
        "id": "Bld17PAYE0PW"
      },
      "outputs": [],
      "source": [
        "class Empleado():\n",
        "  pass"
      ]
    },
    {
      "cell_type": "code",
      "execution_count": 6,
      "metadata": {
        "id": "5UFx68WuG143"
      },
      "outputs": [],
      "source": [
        "class Mascota():\n",
        "  pass"
      ]
    },
    {
      "cell_type": "code",
      "execution_count": 3,
      "metadata": {
        "id": "9uFREKz3FFdD"
      },
      "outputs": [
        {
          "ename": "NameError",
          "evalue": "name 'Mascota' is not defined",
          "output_type": "error",
          "traceback": [
            "\u001b[1;31m---------------------------------------------------------------------------\u001b[0m",
            "\u001b[1;31mNameError\u001b[0m                                 Traceback (most recent call last)",
            "\u001b[1;32mc:\\Users\\jaimc\\Desktop\\Clase POO Eliana Cortés.ipynb Celda 4\u001b[0m in \u001b[0;36m<cell line: 1>\u001b[1;34m()\u001b[0m\n\u001b[1;32m----> <a href='vscode-notebook-cell:/c%3A/Users/jaimc/Desktop/Clase%20POO%20Eliana%20Cort%C3%A9s.ipynb#W3sZmlsZQ%3D%3D?line=0'>1</a>\u001b[0m a\u001b[39m=\u001b[39mMascota \n\u001b[0;32m      <a href='vscode-notebook-cell:/c%3A/Users/jaimc/Desktop/Clase%20POO%20Eliana%20Cort%C3%A9s.ipynb#W3sZmlsZQ%3D%3D?line=1'>2</a>\u001b[0m b\u001b[39m=\u001b[39mMascota\n",
            "\u001b[1;31mNameError\u001b[0m: name 'Mascota' is not defined"
          ]
        }
      ],
      "source": [
        "a=Mascota \n",
        "b=Mascota\n",
        "\n",
        "\n"
      ]
    },
    {
      "cell_type": "code",
      "execution_count": 8,
      "metadata": {
        "colab": {
          "base_uri": "https://localhost:8080/"
        },
        "id": "v5ChbZ5SGeeH",
        "outputId": "072f601f-b1fd-4291-d304-463c6e3da8c4"
      },
      "outputs": [
        {
          "name": "stdout",
          "output_type": "stream",
          "text": [
            "Son iguanitos\n"
          ]
        }
      ],
      "source": [
        "if a==b:\n",
        "  print(\"Son iguanitos\")\n",
        "else:\n",
        "  print(\"No son iguanitos\")\n",
        "##Son iguales pq no les he hecho nada que los diferencie"
      ]
    },
    {
      "cell_type": "code",
      "execution_count": 22,
      "metadata": {
        "id": "Mv6tX3aqHCA3"
      },
      "outputs": [],
      "source": [
        "class Empleado():\n",
        "  #Construyendo un constructor\n",
        "  def __init__(self,nombre, edad,ID,salario):\n",
        "    self.nombre=nombre \n",
        "    self.edad=edad\n",
        "    self.ID=ID\n",
        "    self.salario=salario\n",
        "\n",
        "  def __repr__(self):\n",
        "    return f\"nombre:{self.nombre}, edad:{self.edad}, ID:{self.ID}, salario:{self.salario}\""
      ]
    },
    {
      "cell_type": "code",
      "execution_count": 18,
      "metadata": {
        "id": "0n8eeBxPHs2X"
      },
      "outputs": [],
      "source": [
        "sonia=Empleado(\"Sonia\",25,\"U000157843\", 10000000)"
      ]
    },
    {
      "cell_type": "code",
      "execution_count": 19,
      "metadata": {
        "colab": {
          "base_uri": "https://localhost:8080/"
        },
        "id": "hBDaxxkrIWM3",
        "outputId": "81f38893-281d-4324-afb2-7a0c6580e8a7"
      },
      "outputs": [
        {
          "name": "stdout",
          "output_type": "stream",
          "text": [
            "nombre:Sonia, edad:25, ID:U000157843, salario:10000000\n"
          ]
        }
      ],
      "source": [
        "print(sonia)"
      ]
    },
    {
      "cell_type": "code",
      "execution_count": 20,
      "metadata": {
        "colab": {
          "base_uri": "https://localhost:8080/",
          "height": 35
        },
        "id": "vbar1R4fIcJ3",
        "outputId": "e9125e69-f65d-49e0-fe5e-5df375b2d15b"
      },
      "outputs": [
        {
          "data": {
            "application/vnd.google.colaboratory.intrinsic+json": {
              "type": "string"
            },
            "text/plain": [
              "'Sonia'"
            ]
          },
          "execution_count": 20,
          "metadata": {},
          "output_type": "execute_result"
        }
      ],
      "source": [
        "sonia.nombre"
      ]
    },
    {
      "cell_type": "code",
      "execution_count": 25,
      "metadata": {
        "id": "YX1ylBrpN6t9"
      },
      "outputs": [],
      "source": [
        "madaniel=Empleado(\"Pirulais\",83,\"U00157944\",1000000)"
      ]
    },
    {
      "cell_type": "code",
      "execution_count": 26,
      "metadata": {
        "colab": {
          "base_uri": "https://localhost:8080/"
        },
        "id": "nPyldT3nOU_T",
        "outputId": "4daf3f5b-78df-45f3-9577-e650b952fb2f"
      },
      "outputs": [
        {
          "name": "stdout",
          "output_type": "stream",
          "text": [
            "El salario de Pirulais es menor al de Sonia\n"
          ]
        }
      ],
      "source": [
        "if sonia.salario==madaniel.salario:\n",
        "  print(f\"El salario de {madaniel.nombre} y {sonia.nombre} son iguales\")\n",
        "elif sonia.salario>madaniel.salario:\n",
        "  print(f\"El salario de {madaniel.nombre} es menor al de {sonia.nombre}\")\n",
        "else:\n",
        "  print(f\"El salrio de {madaniel.nombre} es mayor al de {sonia.nombre}\")"
      ]
    },
    {
      "cell_type": "code",
      "execution_count": 50,
      "metadata": {
        "id": "IyFLgbZrQkRw"
      },
      "outputs": [],
      "source": [
        "class Fraccion():\n",
        "  num=0\n",
        "  den=1\n",
        "\n",
        "#Creando el constructor\n",
        "  def __init__(self,num=0,den=1):\n",
        "   self.num=num\n",
        "   self.dem=den\n",
        "\n",
        "  def multiplica(self,b):\n",
        "   num=self.num*b.num\n",
        "   den=self.den*b.den\n",
        "   r=Fraccion(num,den)\n",
        "   return r\n",
        "\n",
        "  def imprime(self):\n",
        "   print(self.num,\"/\",self.den)\n"
      ]
    },
    {
      "cell_type": "code",
      "execution_count": 51,
      "metadata": {
        "id": "eZ-mIwyYR6cx"
      },
      "outputs": [],
      "source": [
        "#Creando objetos tipo Fracción\n",
        "\n",
        "a1=Fraccion(4,5)\n",
        "a2=Fraccion(8,9)"
      ]
    },
    {
      "cell_type": "code",
      "execution_count": 47,
      "metadata": {
        "colab": {
          "base_uri": "https://localhost:8080/"
        },
        "id": "s0k4Xk_4VwZ7",
        "outputId": "6d9d0da0-903a-44d3-bd17-f5c4d8b8aaa2"
      },
      "outputs": [
        {
          "data": {
            "text/plain": [
              "__main__.Fraccion"
            ]
          },
          "execution_count": 47,
          "metadata": {},
          "output_type": "execute_result"
        }
      ],
      "source": [
        "type (a1)"
      ]
    },
    {
      "cell_type": "code",
      "execution_count": 48,
      "metadata": {
        "colab": {
          "base_uri": "https://localhost:8080/"
        },
        "id": "lrlacKRsSK5A",
        "outputId": "c80c5925-034d-47cc-f73e-1f902f944ad1"
      },
      "outputs": [
        {
          "name": "stdout",
          "output_type": "stream",
          "text": [
            "4 / 1\n",
            "8 / 1\n"
          ]
        }
      ],
      "source": [
        "a1.imprime()\n",
        "a2.imprime()"
      ]
    },
    {
      "cell_type": "code",
      "execution_count": 53,
      "metadata": {
        "colab": {
          "base_uri": "https://localhost:8080/"
        },
        "id": "wSCCqIfYUiGU",
        "outputId": "ff2b2ba1-a582-476d-92a1-e505c91fc35e"
      },
      "outputs": [
        {
          "name": "stdout",
          "output_type": "stream",
          "text": [
            "32 / 1\n"
          ]
        }
      ],
      "source": [
        "c=a1.multiplica(a2)\n",
        "c.imprime()"
      ]
    },
    {
      "cell_type": "code",
      "execution_count": 33,
      "metadata": {
        "colab": {
          "base_uri": "https://localhost:8080/"
        },
        "id": "TZxUmG4mIhEw",
        "outputId": "87fb28da-550e-4ac3-b5cf-ec3207e7287a"
      },
      "outputs": [
        {
          "data": {
            "text/plain": [
              "{'nombre': 'Sonia', 'edad': 25, 'ID': 'U000157843', 'salario': 10000000}"
            ]
          },
          "execution_count": 33,
          "metadata": {},
          "output_type": "execute_result"
        }
      ],
      "source": [
        "sonia.__dict__"
      ]
    },
    {
      "cell_type": "code",
      "execution_count": null,
      "metadata": {
        "id": "m2tHRmNGBcgf"
      },
      "outputs": [],
      "source": [
        "class Empleado(): ##Iniciamos con mayuscula\n"
      ]
    }
  ],
  "metadata": {
    "colab": {
      "collapsed_sections": [],
      "provenance": []
    },
    "kernelspec": {
      "display_name": "Python 3.10.6 64-bit",
      "language": "python",
      "name": "python3"
    },
    "language_info": {
      "codemirror_mode": {
        "name": "ipython",
        "version": 3
      },
      "file_extension": ".py",
      "mimetype": "text/x-python",
      "name": "python",
      "nbconvert_exporter": "python",
      "pygments_lexer": "ipython3",
      "version": "3.10.6"
    },
    "vscode": {
      "interpreter": {
        "hash": "1cd17f5141b21e2ef08553ce546070aafbc3c3871eba7bcf9fa425af824b01f9"
      }
    }
  },
  "nbformat": 4,
  "nbformat_minor": 0
}
