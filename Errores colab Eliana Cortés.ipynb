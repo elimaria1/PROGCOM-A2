{
 "cells": [
  {
   "cell_type": "markdown",
   "metadata": {},
   "source": [
    "# Cosas que se pueden hacer en Python pero Colab no ejecuta"
   ]
  },
  {
   "cell_type": "markdown",
   "metadata": {},
   "source": [
    "1. Crackear contraseñas.\n",
    "2. No se puede ejercutar sin conexión.\n",
    "3. Usar un escritorio remoto o SSH.\n",
    "4. Conectarse a proxies remotos.\n",
    "5. Minar criptomonedas.\n",
    "6. Ejecutar ataques de denegación de servicio.\n",
    "7. Eludir las restricciones de acceso o de uso de recursos.\n",
    "8. No se ejecutan algunos entornos de programación (Interfaces gráficas).\n",
    "9. Crear ultrafalsos.\n",
    "10. Alojar archivos, servir contenido multimedia u ofrecer otros servicios web que no estén relacionados con la computación interactiva de Colab.\n",
    "11. Descargar torrents o compartir archivos de punto a punto.\n",
    "12. Pérdida de información en caso de algún fallo con la red o apagón.\n",
    "13. Las operaciones de Google Drive pueden agotar el tiempo de espera cuando el número de archivos o subcarpetas de una carpeta se vuelve demasiado grande, sin superar el límite necesariamente.\n",
    "14. Crear ultrafalsos.\n",
    "15. Número máximo de operaciones por usuario y por archivo, y cuotas de ancho de banda.\n",
    "16. Necesario tener una GPU de google para programar.\n",
    "17. No poder identificar o llamar en algunos casos algún tipo de librería importada.\n",
    "18. Error al guardar información pasada y no permite llamar alguna variable, o arroja error, luego, se debe desconectar el entorno de ejecución.\n",
    "19. Colab necesita tener flexibilidad para ajustar dinámicamente los límites de uso y la disponibilidad de hardware.\n",
    "20. Cuota de almacenamiento limitada."
   ]
  }
 ],
 "metadata": {
  "kernelspec": {
   "display_name": "Python 3.10.6 64-bit",
   "language": "python",
   "name": "python3"
  },
  "language_info": {
   "name": "python",
   "version": "3.10.6"
  },
  "orig_nbformat": 4,
  "vscode": {
   "interpreter": {
    "hash": "1cd17f5141b21e2ef08553ce546070aafbc3c3871eba7bcf9fa425af824b01f9"
   }
  }
 },
 "nbformat": 4,
 "nbformat_minor": 2
}
