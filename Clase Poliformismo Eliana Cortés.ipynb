{
  "cells": [
    {
      "cell_type": "markdown",
      "metadata": {
        "id": "LSQWVZBWJUbC"
      },
      "source": [
        "- Métodos: Lo que puede hacer\n",
        "\n",
        "- Atributos: Características"
      ]
    },
    {
      "cell_type": "code",
      "execution_count": 1,
      "metadata": {
        "id": "V9eSMoZ1GXtQ"
      },
      "outputs": [],
      "source": [
        "class Sayayin():\n",
        "  def __init__(self, nombre, cabello, ojos, fuerza, estatura,cola_de_mono):\n",
        "    self.nombre=nombre\n",
        "    self.cabello=\"negro\"\n",
        "    self.ojos=\"negro\"\n",
        "    self.fuerza=fuerza\n",
        "    self.estatura=estatura\n",
        "    self.cola_de_mono=True\n",
        "\n",
        "def color_cabello(self,fuerza_base):\n",
        "  fuerza_t=9000\n",
        "  if fuerza_base*10 >=fuerza_t:\n",
        "    print(\"Alcanza nivel sayayayin fase 1\")\n",
        "    self.cabello=\"rubio\"\n",
        "  elif fuerza_base*20>=fuerza_t*20:\n",
        "    print(\"Alcanza nivel sayayayin fase 2\")\n",
        "    self.cabello=\"rubio\"\n",
        "  elif fuerza_base*1000>=fuerza_t*1000:\n",
        "    print(\"Alcanza nivel sayayayin fase 4\")\n",
        "    self.cabello=\"negro\"\n",
        "    if self.cola==False:\n",
        "      self.cola=True\n",
        "  else:\n",
        "    print(\"Alcanza nivel sayayin ultrainstinto\")\n",
        "    self.cabello=\"cenizo\"\n",
        "\n",
        "def trabajo(self, trabajo):\n",
        "  if trabajo==1:\n",
        "    print(f\"{self.nombre} es de tipo de guerrero\")\n",
        "  elif trabajo==2:\n",
        "    print(f\"{self.nombre} es de tipo de liendra de freezer\")\n",
        "  elif trabajo==3:\n",
        "    print(f\"{self.nombre} es de tipo mercenarios\")\n",
        "  else:\n",
        "    print(f\"{self.nombre} es de la realeza\")\n",
        "  \n",
        "def luna(self,luna):\n",
        "  if self.cola and luna==\"luna llena\":\n",
        "    print(f\"{self.nombre} se convierte en ozano\")\n",
        "    self.fuerza=self.fuerza*50\n",
        "  else:\n",
        "    print(f\"{self.nombre} no se transforme en na :v\")\n"
      ]
    },
    {
      "cell_type": "code",
      "execution_count": 3,
      "metadata": {
        "id": "KfwTiFpQOpPe"
      },
      "outputs": [],
      "source": [
        "class Humano():\n",
        "  def __init__(self,nombre,color,cabello, ojos, fuerza):\n",
        "    self.nombre=nombre\n",
        "    self.cabello=cabello\n",
        "    self.ojos=ojos\n",
        "    self.fuerza=fuerza\n",
        "\n",
        "def color_cabello(self,tinte):\n",
        "\n",
        "  if tinte==0:\n",
        "    print(self.nombre, \"Ha decolorado su cabello\")\n",
        "    self.cabello=\"amarillo\"\n",
        "  elif tinte==2:\n",
        "    print(\"Ha decolorado su cabello de lila\")\n",
        "    self.cabello=\"lila\"\n",
        "  elif tinte==3:\n",
        "    print(\"Ha decolorado su cabello canoso\")\n",
        "    self.cabello=\"canoso\"\n",
        "\n",
        "def trabajo(self, trabajo):\n",
        "  if trabajo==1:\n",
        "    print(f\"{self.nombre} trabaja como callcenter\")\n",
        "  elif trabajo==2:\n",
        "    print(f\"{self.nombre} trabaja como vendedor de Bonice\")\n",
        "  elif trabajo==3:\n",
        "    print(f\"{self.nombre} trabaja como tombo\")\n",
        "  elif trabajo==4:\n",
        "    print(f\"{self.nombre} trabaja como programador de Python\")\n",
        "  else:\n",
        "    print(f\"{self.nombre} es nini\")\n",
        "  "
      ]
    },
    {
      "cell_type": "code",
      "execution_count": 2,
      "metadata": {
        "id": "KlLSMrqhSoTs"
      },
      "outputs": [
        {
          "ename": "NameError",
          "evalue": "name 'Humano' is not defined",
          "output_type": "error",
          "traceback": [
            "\u001b[1;31m---------------------------------------------------------------------------\u001b[0m",
            "\u001b[1;31mNameError\u001b[0m                                 Traceback (most recent call last)",
            "\u001b[1;32mc:\\Users\\jaimc\\Desktop\\Clase Poliformismo Eliana Cortés.ipynb Celda 5\u001b[0m in \u001b[0;36m<cell line: 1>\u001b[1;34m()\u001b[0m\n\u001b[1;32m----> <a href='vscode-notebook-cell:/c%3A/Users/jaimc/Desktop/Clase%20Poliformismo%20Eliana%20Cort%C3%A9s.ipynb#W3sZmlsZQ%3D%3D?line=0'>1</a>\u001b[0m \u001b[39mclass\u001b[39;00m \u001b[39mHibrido\u001b[39;00m(Sayayin,Humano):\n\u001b[0;32m      <a href='vscode-notebook-cell:/c%3A/Users/jaimc/Desktop/Clase%20Poliformismo%20Eliana%20Cort%C3%A9s.ipynb#W3sZmlsZQ%3D%3D?line=1'>2</a>\u001b[0m   \u001b[39mpass\u001b[39;00m\n",
            "\u001b[1;31mNameError\u001b[0m: name 'Humano' is not defined"
          ]
        }
      ],
      "source": [
        "class Hibrido(Sayayin,Humano):\n",
        "  pass"
      ]
    },
    {
      "cell_type": "code",
      "execution_count": 4,
      "metadata": {
        "id": "1awkPVlsSybL"
      },
      "outputs": [],
      "source": [
        "goku=Sayayin(\"Kakaroto\", \"arcoiris\", \"verde dorado\", 100, 50, True)"
      ]
    },
    {
      "cell_type": "code",
      "execution_count": 5,
      "metadata": {
        "id": "qOsZfkCFTMZD"
      },
      "outputs": [],
      "source": [
        "milk=Humano(\"Milk\",\"Negros\",\"Negro\", 100,50)"
      ]
    },
    {
      "cell_type": "code",
      "execution_count": 6,
      "metadata": {
        "id": "5R4ePjaNUaHl"
      },
      "outputs": [
        {
          "ename": "NameError",
          "evalue": "name 'Hibrido' is not defined",
          "output_type": "error",
          "traceback": [
            "\u001b[1;31m---------------------------------------------------------------------------\u001b[0m",
            "\u001b[1;31mNameError\u001b[0m                                 Traceback (most recent call last)",
            "\u001b[1;32mc:\\Users\\jaimc\\Desktop\\Clase Poliformismo Eliana Cortés.ipynb Celda 7\u001b[0m in \u001b[0;36m<cell line: 1>\u001b[1;34m()\u001b[0m\n\u001b[1;32m----> <a href='vscode-notebook-cell:/c%3A/Users/jaimc/Desktop/Clase%20Poliformismo%20Eliana%20Cort%C3%A9s.ipynb#W6sZmlsZQ%3D%3D?line=0'>1</a>\u001b[0m gohan\u001b[39m=\u001b[39mHibrido(\u001b[39m\"\u001b[39m\u001b[39mGohan\u001b[39m\u001b[39m\"\u001b[39m, \u001b[39m\"\u001b[39m\u001b[39mnegro\u001b[39m\u001b[39m\"\u001b[39m, \u001b[39m\"\u001b[39m\u001b[39maguamarina\u001b[39m\u001b[39m\"\u001b[39m, \u001b[39m1000\u001b[39m, \u001b[39m50\u001b[39m, \u001b[39mTrue\u001b[39;00m)\n",
            "\u001b[1;31mNameError\u001b[0m: name 'Hibrido' is not defined"
          ]
        }
      ],
      "source": [
        "gohan=Hibrido(\"Gohan\", \"negro\", \"aguamarina\", 1000, 50, True)"
      ]
    },
    {
      "cell_type": "code",
      "execution_count": null,
      "metadata": {},
      "outputs": [],
      "source": []
    }
  ],
  "metadata": {
    "colab": {
      "provenance": []
    },
    "kernelspec": {
      "display_name": "Python 3.10.6 64-bit",
      "language": "python",
      "name": "python3"
    },
    "language_info": {
      "codemirror_mode": {
        "name": "ipython",
        "version": 3
      },
      "file_extension": ".py",
      "mimetype": "text/x-python",
      "name": "python",
      "nbconvert_exporter": "python",
      "pygments_lexer": "ipython3",
      "version": "3.10.6"
    },
    "vscode": {
      "interpreter": {
        "hash": "1cd17f5141b21e2ef08553ce546070aafbc3c3871eba7bcf9fa425af824b01f9"
      }
    }
  },
  "nbformat": 4,
  "nbformat_minor": 0
}
