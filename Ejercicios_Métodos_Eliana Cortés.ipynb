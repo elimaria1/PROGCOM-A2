{
 "cells": [
  {
   "cell_type": "markdown",
   "metadata": {},
   "source": [
    "Punto 1"
   ]
  },
  {
   "cell_type": "code",
   "execution_count": 12,
   "metadata": {},
   "outputs": [
    {
     "name": "stdout",
     "output_type": "stream",
     "text": [
      "16  es el mayor\n",
      "None\n"
     ]
    }
   ],
   "source": [
    "def npc(a,b):\n",
    "    if a>b:\n",
    "        print(a,\" es el mayor\")\n",
    "    else:\n",
    "        print(b,\" es el mayor\")\n",
    "print(npc(16,5))"
   ]
  },
  {
   "cell_type": "markdown",
   "metadata": {},
   "source": [
    "Punto 2"
   ]
  },
  {
   "cell_type": "code",
   "execution_count": 14,
   "metadata": {},
   "outputs": [
    {
     "name": "stdout",
     "output_type": "stream",
     "text": [
      "11 es el mayor\n",
      "None\n"
     ]
    }
   ],
   "source": [
    "def npc(a,b,c): \n",
    "  if a>b and a>c: \n",
    "    print(a,\" es el mayor\") \n",
    "  elif b>c and b>a: \n",
    "    print(b,\" es el mayor\") \n",
    "  else: \n",
    "    print(c, \"es el mayor\")\n",
    "print(npc(10,8,11))"
   ]
  },
  {
   "cell_type": "markdown",
   "metadata": {},
   "source": [
    "Punto 3"
   ]
  },
  {
   "cell_type": "code",
   "execution_count": 3,
   "metadata": {},
   "outputs": [
    {
     "name": "stdout",
     "output_type": "stream",
     "text": [
      "12\n"
     ]
    }
   ],
   "source": [
    "def op(): \n",
    "    x=0 \n",
    "    lista=[3,4,5] \n",
    "    for n in lista: \n",
    "        x=x+n \n",
    "    return print(x) \n",
    "op()"
   ]
  },
  {
   "cell_type": "markdown",
   "metadata": {},
   "source": [
    "Punto 4"
   ]
  },
  {
   "cell_type": "code",
   "execution_count": 4,
   "metadata": {},
   "outputs": [
    {
     "name": "stdout",
     "output_type": "stream",
     "text": [
      "18\n"
     ]
    }
   ],
   "source": [
    "def op(): \n",
    "    x=0 \n",
    "    lista=[3,4,5,6] \n",
    "    for n in lista: \n",
    "        x=x+n \n",
    "    return print(x) \n",
    "op()"
   ]
  },
  {
   "cell_type": "markdown",
   "metadata": {},
   "source": [
    "Punto 5"
   ]
  },
  {
   "cell_type": "code",
   "execution_count": 6,
   "metadata": {},
   "outputs": [
    {
     "name": "stdout",
     "output_type": "stream",
     "text": [
      "17\n"
     ]
    }
   ],
   "source": [
    "def op(): \n",
    "    x=0 \n",
    "    lista=[8,5,3,1] \n",
    "    for n in lista: \n",
    "        x=x+n \n",
    "    return print(x) \n",
    "op()"
   ]
  },
  {
   "cell_type": "markdown",
   "metadata": {},
   "source": [
    "Punto 6"
   ]
  },
  {
   "cell_type": "code",
   "execution_count": 7,
   "metadata": {},
   "outputs": [
    {
     "name": "stdout",
     "output_type": "stream",
     "text": [
      "0\n"
     ]
    }
   ],
   "source": [
    "def op(): \n",
    "    x=1 \n",
    "    lista=[0,4,5] \n",
    "    for n in lista: \n",
    "        x=n*x \n",
    "    return print(x) \n",
    "op()"
   ]
  },
  {
   "cell_type": "markdown",
   "metadata": {},
   "source": [
    "Punto 7"
   ]
  },
  {
   "cell_type": "code",
   "execution_count": 9,
   "metadata": {},
   "outputs": [
    {
     "name": "stdout",
     "output_type": "stream",
     "text": [
      "60\n"
     ]
    }
   ],
   "source": [
    "def op(): \n",
    "    x=1 \n",
    "    lista=[1,3,4,5] \n",
    "    for n in lista: \n",
    "        x=n*x \n",
    "    return print(x) \n",
    "op()"
   ]
  },
  {
   "cell_type": "markdown",
   "metadata": {},
   "source": [
    "Punto 8"
   ]
  },
  {
   "cell_type": "code",
   "execution_count": 10,
   "metadata": {},
   "outputs": [
    {
     "name": "stdout",
     "output_type": "stream",
     "text": [
      "-6\n"
     ]
    }
   ],
   "source": [
    "def op(): \n",
    "    x=1 \n",
    "    lista=[-1,1,2,3]\n",
    "    for n in lista: \n",
    "        x=n*x \n",
    "    return print(x) \n",
    "op()"
   ]
  },
  {
   "cell_type": "markdown",
   "metadata": {},
   "source": [
    "Punto 9"
   ]
  },
  {
   "cell_type": "code",
   "execution_count": 17,
   "metadata": {},
   "outputs": [
    {
     "name": "stdout",
     "output_type": "stream",
     "text": [
      "odnum aloH\n"
     ]
    }
   ],
   "source": [
    "def invertir(palabra):\n",
    "    return palabra[::-1]\n",
    "\n",
    "print(invertir(\"Hola mundo\"))"
   ]
  },
  {
   "cell_type": "markdown",
   "metadata": {},
   "source": [
    "Punto 10"
   ]
  },
  {
   "cell_type": "code",
   "execution_count": 15,
   "metadata": {},
   "outputs": [
    {
     "name": "stdout",
     "output_type": "stream",
     "text": [
      "El factorial de  5 es 120\n"
     ]
    }
   ],
   "source": [
    "def factorial(número):\n",
    "    if número<=0:\n",
    "        return 1\n",
    "    factorial=1\n",
    "    while número>0:\n",
    "        factorial=factorial*número\n",
    "        número-=1\n",
    "    return factorial\n",
    "valor = 5\n",
    "f = factorial(valor)\n",
    "print(f\"El factorial de \",valor,\"es\",f)\n"
   ]
  },
  {
   "cell_type": "markdown",
   "metadata": {},
   "source": [
    "Punto 17"
   ]
  },
  {
   "cell_type": "code",
   "execution_count": 21,
   "metadata": {},
   "outputs": [
    {
     "name": "stdout",
     "output_type": "stream",
     "text": [
      "ana  es un palíndromo\n"
     ]
    }
   ],
   "source": [
    "pal=str(input(\"Ingrese una palabra: \")) \n",
    "pal=pal.lower() \n",
    "val1=list(pal) \n",
    "val2=val1 \n",
    "val2.reverse() \n",
    "def prueba (): \n",
    "    val1=list(pal) \n",
    "    for i in range(0,len(val1)): \n",
    "        counter=0 \n",
    "        for j in range(0,len(val1)): \n",
    "            if val1[i] == val2[i]: \n",
    "                counter+=1 \n",
    "            else: \n",
    "                counter=counter \n",
    "    if counter==len(val1): \n",
    "        print(pal,\" es un palíndromo\") \n",
    "    else: \n",
    "        print(pal,\" no es un palíndromo\")\n",
    "        return; \n",
    "prueba()"
   ]
  }
 ],
 "metadata": {
  "kernelspec": {
   "display_name": "Python 3.10.6 64-bit",
   "language": "python",
   "name": "python3"
  },
  "language_info": {
   "codemirror_mode": {
    "name": "ipython",
    "version": 3
   },
   "file_extension": ".py",
   "mimetype": "text/x-python",
   "name": "python",
   "nbconvert_exporter": "python",
   "pygments_lexer": "ipython3",
   "version": "3.10.6"
  },
  "orig_nbformat": 4,
  "vscode": {
   "interpreter": {
    "hash": "1cd17f5141b21e2ef08553ce546070aafbc3c3871eba7bcf9fa425af824b01f9"
   }
  }
 },
 "nbformat": 4,
 "nbformat_minor": 2
}
