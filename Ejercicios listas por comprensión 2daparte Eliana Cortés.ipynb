{
 "cells": [
  {
   "cell_type": "markdown",
   "metadata": {},
   "source": [
    "#Ejercicios listas parte 2 (función,compresión, lambda)"
   ]
  },
  {
   "cell_type": "markdown",
   "metadata": {},
   "source": [
    "##Ejercicio 1 by Isaac"
   ]
  },
  {
   "cell_type": "code",
   "execution_count": 11,
   "metadata": {},
   "outputs": [],
   "source": [
    "#Normal\n",
    "n=int(input(\"Ingresa el número de palabras que vas a ingresarr\"))\n",
    "lista=[]\n",
    "for i in range(n):\n",
    "    l=input(\"Ingresa una palabra\")\n",
    "    if l.upper():lista.append(l)\n",
    "\n"
   ]
  },
  {
   "cell_type": "code",
   "execution_count": 12,
   "metadata": {},
   "outputs": [
    {
     "data": {
      "text/plain": [
       "['hOLA']"
      ]
     },
     "execution_count": 12,
     "metadata": {},
     "output_type": "execute_result"
    }
   ],
   "source": [
    "lista"
   ]
  },
  {
   "cell_type": "code",
   "execution_count": 16,
   "metadata": {},
   "outputs": [
    {
     "name": "stdout",
     "output_type": "stream",
     "text": [
      "Las palabras escritas en mayúscula son\n",
      "['jdkskjsdidikss', 'AKKAJSJSKAJ']\n",
      "Las palabras escritas en minúscula son\n",
      "['jdkskjsdidikss', 'AKKAJSJSKAJ']\n"
     ]
    }
   ],
   "source": [
    "#Comprensión\n",
    "n=int(input(\"Ingresa el número de palabras que vas a ingresarr\"))\n",
    "lista=[]\n",
    "for i in range(n):\n",
    "    l=input(\"Ingresa una palabra\")\n",
    "    lista.append(l)\n",
    "\n",
    "lista_comprimida_M=[elemento for elemento in lista if elemento.upper()]\n",
    "lista_comprimida_m=[elemento for elemento in lista if elemento.lower()]\n",
    "\n",
    "print(\"Las palabras escritas en mayúscula son\")\n",
    "print(lista_comprimida_M)\n",
    "print(\"Las palabras escritas en minúscula son\")\n",
    "print(lista_comprimida_m)\n"
   ]
  },
  {
   "cell_type": "code",
   "execution_count": 19,
   "metadata": {},
   "outputs": [
    {
     "name": "stdout",
     "output_type": "stream",
     "text": [
      "Las palabras escritas en mayúscula son\n",
      "[False, True]\n",
      "Las palabras escritas en minúscula son\n",
      "[True, False]\n"
     ]
    }
   ],
   "source": [
    "#lambda\n",
    "n=int(input(\"Ingresa el número de palabras que vas a ingresarr\"))\n",
    "lista2=[]\n",
    "for i in range(n):\n",
    "    l=input(\"Ingresa una palabra\")\n",
    "    lista2.append(l)\n",
    "\n",
    "lista2_comprimida_M=list(map(lambda elemento: True if elemento.isupper() else False, lista2))\n",
    "lista2_comprimida_m=list(map(lambda elemento: True if elemento.islower() else False, lista2))\n",
    "\n",
    "print(\"Las palabras escritas en mayúscula son\")\n",
    "print(lista2_comprimida_M)\n",
    "print(\"Las palabras escritas en minúscula son\")\n",
    "print(lista2_comprimida_m)\n"
   ]
  },
  {
   "cell_type": "markdown",
   "metadata": {},
   "source": [
    "##Ejercicio by Leslie"
   ]
  },
  {
   "cell_type": "code",
   "execution_count": 24,
   "metadata": {},
   "outputs": [
    {
     "name": "stdout",
     "output_type": "stream",
     "text": [
      "ana es un palíndromo\n"
     ]
    }
   ],
   "source": [
    "#Tradicional\n",
    "def pali (word):\n",
    "    rev=word[::-1]\n",
    "    return word==rev\n",
    "word=input(\"Digita una palabra\").lower()\n",
    "final=pali(word)\n",
    "if final == True:\n",
    "    print(f\"{word} es un palíndromo\")\n",
    "else:\n",
    "    print(f\"{word} no es un palíndromo\")"
   ]
  },
  {
   "cell_type": "code",
   "execution_count": 21,
   "metadata": {},
   "outputs": [],
   "source": [
    "#Comprensión"
   ]
  },
  {
   "cell_type": "code",
   "execution_count": 29,
   "metadata": {},
   "outputs": [
    {
     "name": "stdout",
     "output_type": "stream",
     "text": [
      "['ana']\n"
     ]
    },
    {
     "data": {
      "text/plain": [
       "[True]"
      ]
     },
     "execution_count": 29,
     "metadata": {},
     "output_type": "execute_result"
    }
   ],
   "source": [
    "#Lambda\n",
    "c=int(input(\"Digita la cantidad de palabras que deseas ingresar: \"))\n",
    "lista1=[]\n",
    "for i in range(c):\n",
    "    word=input(\"Escribe aquí: \").lower()\n",
    "    lista1.append(word)\n",
    "print(lista1)\n",
    "lista2=list((map(lambda x:True if x==x[::-1] else False, lista1)))\n",
    "lista2"
   ]
  },
  {
   "cell_type": "markdown",
   "metadata": {},
   "source": [
    "#Ejercicio by Manuel"
   ]
  },
  {
   "cell_type": "code",
   "execution_count": 34,
   "metadata": {},
   "outputs": [
    {
     "name": "stdout",
     "output_type": "stream",
     "text": [
      "[('Martillo', 'Fail')]\n",
      "[('Martillo', 'Fail'), ('Alicate', 'Fail')]\n",
      "[('Martillo', 'Fail'), ('Alicate', 'Fail'), ('Clavo', 'Fail')]\n",
      "[('Perno', 'Good')]\n"
     ]
    }
   ],
   "source": [
    "#Normal\n",
    "import random\n",
    "stock=[\"Martillo\",\"Alicate\",\"Clavo\",\"Perno\"]\n",
    "cality=[\"Good\",\"Fail\"]\n",
    "a=[]\n",
    "\n",
    "for i in stock:\n",
    "    a.append((i,random.choice(cality)))\n",
    "    listg=[]\n",
    "    listf=[]\n",
    "\n",
    "for x in a:\n",
    "    if \"Good\" in x:\n",
    "        listg.append(x)\n",
    "        print(listg)\n",
    "    elif \"Fail\" in x:\n",
    "        listf.append(x)\n",
    "        print(listf)"
   ]
  },
  {
   "cell_type": "code",
   "execution_count": 35,
   "metadata": {},
   "outputs": [
    {
     "name": "stdout",
     "output_type": "stream",
     "text": [
      "[('Martillo', 'Fail'), ('Clavo', 'Fail')] [('Alicate', 'Good'), ('Perno', 'Good')]\n"
     ]
    }
   ],
   "source": [
    "#Comprensión\n",
    "import random\n",
    "stock=[\"Martillo\",\"Alicate\",\"Clavo\",\"Perno\"]\n",
    "cality=[\"Good\",\"Fail\"]\n",
    "a=[]\n",
    "\n",
    "for i in stock:\n",
    "    a.append((i,random.choice(cality)))\n",
    "\n",
    "listg=[]\n",
    "listf=[]\n",
    "\n",
    "listg=[x for x in a if \"Good\" in x]\n",
    "listf=[x for x in a if \"Fail\" in x]\n",
    "print(listf,listg)"
   ]
  },
  {
   "cell_type": "code",
   "execution_count": 37,
   "metadata": {},
   "outputs": [
    {
     "name": "stdout",
     "output_type": "stream",
     "text": [
      "[]\n"
     ]
    }
   ],
   "source": [
    "#Lambda\n",
    "import random\n",
    "stock=[\"Martillo\",\"Alicate\",\"Clavo\",\"Perno\"]\n",
    "cality=[\"Good\",\"Fail\"]\n",
    "a=[]\n",
    "\n",
    "for i in stock:\n",
    "    a.append((i,random.choice(cality)))\n",
    "\n",
    "listg=[]\n",
    "listf=[]\n",
    "\n",
    "listg=list(filter(lambda a: a==\"Good\", a))\n",
    "print(listg)"
   ]
  },
  {
   "cell_type": "markdown",
   "metadata": {},
   "source": [
    "#Ejercicio by Paula"
   ]
  },
  {
   "cell_type": "code",
   "execution_count": 45,
   "metadata": {},
   "outputs": [],
   "source": [
    "def capitalizar(oración):\n",
    "    lista1=[]\n",
    "    for l in n1:\n",
    "        lista1.append(l)\n",
    "        lista1[0]=n1[0].upper()\n",
    "    print(\"\".join(lista1))"
   ]
  },
  {
   "cell_type": "code",
   "execution_count": 52,
   "metadata": {},
   "outputs": [
    {
     "name": "stdout",
     "output_type": "stream",
     "text": [
      "ana\n"
     ]
    }
   ],
   "source": [
    "listap=[]\n",
    "n=input(\"Ingresa una oración\")\n",
    "for l in n:\n",
    "    listap.append(l)\n",
    "    listap[0]=n1[0].upper\n",
    "print(\"\".join(lista1))"
   ]
  },
  {
   "cell_type": "code",
   "execution_count": 56,
   "metadata": {},
   "outputs": [
    {
     "data": {
      "text/plain": [
       "'Hola'"
      ]
     },
     "execution_count": 56,
     "metadata": {},
     "output_type": "execute_result"
    }
   ],
   "source": [
    "n3=lambda x:x[0].upper()+x[1::]\n",
    "n=n3(n)\n",
    "n"
   ]
  },
  {
   "cell_type": "markdown",
   "metadata": {},
   "source": [
    "#Ejercicio by Francisco"
   ]
  },
  {
   "cell_type": "code",
   "execution_count": 55,
   "metadata": {},
   "outputs": [
    {
     "name": "stdout",
     "output_type": "stream",
     "text": [
      "['u', 2, 'i', 4, 'u', 1, 'i', 9, 'i', 6]\n"
     ]
    }
   ],
   "source": [
    "#Tradicional\n",
    "import random\n",
    "palabras=[\"a\",\"e\",\"i\",\"o\",\"u\"]\n",
    "numeros=[1,2,3,4,5,6,7,8,9]\n",
    "generador=[]\n",
    "for i in range(0,5):\n",
    "    generador.append(random.choice(palabras))\n",
    "    generador.append(random.choice(numeros))\n",
    "print(generador)\n"
   ]
  },
  {
   "cell_type": "code",
   "execution_count": 53,
   "metadata": {},
   "outputs": [
    {
     "name": "stdout",
     "output_type": "stream",
     "text": [
      "['f', 'f', 'k', 'k', 'f', 'f', 'd', 'd', 's', 's']\n"
     ]
    }
   ],
   "source": [
    "#Comprensión\n",
    "import random\n",
    "x=input(\"Ingrese la palabra de la contraseña\")\n",
    "palabras=[letra for letra in x]\n",
    "numeros2=[num for num in range(0,10)]\n",
    "generador=[random.choice(palabras) or random.choice(numeros2) for num in range (0,11)]\n",
    "print(generador)"
   ]
  },
  {
   "cell_type": "code",
   "execution_count": 54,
   "metadata": {},
   "outputs": [
    {
     "name": "stdout",
     "output_type": "stream",
     "text": [
      "['f', 'f', 'k', 'k', 'f', 'f', 'd', 'd', 's', 's']\n"
     ]
    }
   ],
   "source": [
    "#Lambda\n",
    "import random\n",
    "x=input(\"Ingrese la palabra de la contraseña\")\n",
    "palabras=[letra for letra in x]\n",
    "numeros2=[num for num in range(0,10)]\n",
    "generador2=[random.choice(list(map(lambda x: x, numeros2))) or random.choice(sorted(palabras, key=lambda letra: letra in palabras)) for num in range (0,11)]\n",
    "print(generador)"
   ]
  },
  {
   "cell_type": "markdown",
   "metadata": {},
   "source": [
    "#Ejercicio by Ana"
   ]
  },
  {
   "cell_type": "code",
   "execution_count": 57,
   "metadata": {},
   "outputs": [
    {
     "name": "stdout",
     "output_type": "stream",
     "text": [
      "¡Hola! Soy Lucía del sistema de asignación de turnos para pasaporte de la Gobernación \n",
      " Solo las personas mayores de edad tendrán su cita mañana en el rango de 6am a 12 pm \n",
      " y los menores de edad la tendrán en el rango de 2pm a 6pm \n",
      " \n",
      "[('Pedro', 33), ('Carla', 45)] tendrán la cita a las 8am y 10am respectivamente\n",
      "[('Ana', 3), ('Juan', 13)] tendrán la cita a las 2pm y 4pm respectivamente\n"
     ]
    }
   ],
   "source": [
    "#lambda\n",
    "print(\"¡Hola! Soy Lucía del sistema de asignación de turnos para pasaporte de la Gobernación \\n Solo las personas mayores de edad tendrán su cita mañana en el rango de 6am a 12 pm \\n y los menores de edad la tendrán en el rango de 2pm a 6pm \\n \" )\n",
    "personas=[('Pedro',33),('Ana',3),('Juan',13),('Carla',45)]\n",
    "perma=list(filter(lambda may: may[1]>=18,personas ))\n",
    "perma\n",
    "print(f'{perma} tendrán la cita a las 8am y 10am respectivamente')\n",
    "\n",
    "perme=list(filter(lambda men: men[1]<18,personas ))\n",
    "perme\n",
    "print(f'{perme} tendrán la cita a las 2pm y 4pm respectivamente')"
   ]
  },
  {
   "cell_type": "code",
   "execution_count": 58,
   "metadata": {},
   "outputs": [
    {
     "name": "stdout",
     "output_type": "stream",
     "text": [
      "¡Hola! Soy Lucía del sistema de asignación de turnos para pasaporte de la Gobernación \n",
      " Solo las personas mayores de edad tendrán su cita mañana en el rango de 6am a 12 pm \n",
      " y los menores de edad la tendrán en el rango de 2pm a 6pm \n",
      " \n",
      "[('Pedro', 33), ('Carla', 45)] tendrán la cita a las 8am y 10am respectivamente\n",
      "[('Ana', 3), ('Juan', 13)] tendrán la cita a las 2pm y 4pm respectivamente\n"
     ]
    }
   ],
   "source": [
    "#normal\n",
    "print(\"¡Hola! Soy Lucía del sistema de asignación de turnos para pasaporte de la Gobernación \\n Solo las personas mayores de edad tendrán su cita mañana en el rango de 6am a 12 pm \\n y los menores de edad la tendrán en el rango de 2pm a 6pm \\n \" )\n",
    "lista1=[('Pedro',33),('Ana',3),('Juan',13),('Carla',45)]\n",
    "lista2=[]\n",
    "lista3=[]\n",
    "for elemento in lista1:\n",
    "  if elemento[1]>=18:\n",
    "    lista2.append(elemento)\n",
    "print(f'{lista2} tendrán la cita a las 8am y 10am respectivamente')\n",
    "\n",
    "for elemento in lista1:\n",
    "  if elemento[1]<18:\n",
    "    lista3.append(elemento)\n",
    "print(f'{lista3} tendrán la cita a las 2pm y 4pm respectivamente')"
   ]
  },
  {
   "cell_type": "code",
   "execution_count": 59,
   "metadata": {},
   "outputs": [
    {
     "name": "stdout",
     "output_type": "stream",
     "text": [
      "¡Hola! Soy Lucía del sistema de asignación de turnos para pasaporte de la Gobernación \n",
      " Solo las personas mayores de edad tendrán su cita mañana en el rango de 6am a 12 pm \n",
      " y los menores de edad la tendrán en el rango de 2pm a 6pm \n",
      " \n",
      "[('Pedro', 33), ('Carla', 45)] tendrán la cita a las 8am y 10am respectivamente\n",
      "[('Ana', 3), ('Juan', 13)] tendrán la cita a las 2pm y 4pm respectivamente\n"
     ]
    }
   ],
   "source": [
    "#compresión\n",
    "print(\"¡Hola! Soy Lucía del sistema de asignación de turnos para pasaporte de la Gobernación \\n Solo las personas mayores de edad tendrán su cita mañana en el rango de 6am a 12 pm \\n y los menores de edad la tendrán en el rango de 2pm a 6pm \\n \" )\n",
    "personas=[('Pedro',33),('Ana',3),('Juan',13),('Carla',45)]\n",
    "\n",
    "\n",
    "personas_mayores=[per for per in personas if per[1]>=18]\n",
    "print(f'{personas_mayores} tendrán la cita a las 8am y 10am respectivamente')\n",
    "\n",
    "personas_menores=[per for per in personas if per[1]<18]\n",
    "print(f'{personas_menores} tendrán la cita a las 2pm y 4pm respectivamente')\n"
   ]
  }
 ],
 "metadata": {
  "kernelspec": {
   "display_name": "Python 3.10.5 64-bit (system)",
   "language": "python",
   "name": "python3"
  },
  "language_info": {
   "codemirror_mode": {
    "name": "ipython",
    "version": 3
   },
   "file_extension": ".py",
   "mimetype": "text/x-python",
   "name": "python",
   "nbconvert_exporter": "python",
   "pygments_lexer": "ipython3",
   "version": "3.10.5"
  },
  "orig_nbformat": 4,
  "vscode": {
   "interpreter": {
    "hash": "c30c4a739aaee54d705c2fb42ad4fb49eca0c81ae923e6c0e0c7ad77352b4426"
   }
  }
 },
 "nbformat": 4,
 "nbformat_minor": 2
}
