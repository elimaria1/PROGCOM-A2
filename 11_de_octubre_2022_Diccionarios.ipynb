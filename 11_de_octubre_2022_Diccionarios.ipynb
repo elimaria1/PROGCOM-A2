{
  "nbformat": 4,
  "nbformat_minor": 0,
  "metadata": {
    "colab": {
      "provenance": [],
      "collapsed_sections": []
    },
    "kernelspec": {
      "name": "python3",
      "display_name": "Python 3"
    },
    "language_info": {
      "name": "python"
    }
  },
  "cells": [
    {
      "cell_type": "markdown",
      "source": [
        "\n",
        "##Trabajo con diccionarios.\n",
        "\n",
        "tenemos dos listas, **lista_1** y **lista_2** – con **lista_1** conteniendo las claves y **lista_2** conteniendo los correspondientes valores.\n",
        "\n",
        "Ahora podemos usar la función **zip()** para comprimir estas dos listas, llegando a generar los pares de clave-valor (es decir, los elementos de estas dos listas).\n",
        "\n",
        "\n"
      ],
      "metadata": {
        "id": "k1KNfc1Dp2EI"
      }
    },
    {
      "cell_type": "code",
      "execution_count": null,
      "metadata": {
        "id": "tKQwOzvpprTF"
      },
      "outputs": [],
      "source": [
        "dias =[\"Sunday\",\"Monday\",\"Tuesday\",\"Wednesday\",\"Thursday\",\"Friday\",\"Saturday\"]\n",
        "temp = [30.5,32.6,31.8,33.4,29.8,30.2,29.9]"
      ]
    },
    {
      "cell_type": "code",
      "source": [
        "temp_semanal = {dias:temp for (dias,temp) in zip(dias,temp)}\n",
        "\n",
        "print(temp_semanal)"
      ],
      "metadata": {
        "colab": {
          "base_uri": "https://localhost:8080/"
        },
        "id": "b1hXcGlPq67g",
        "outputId": "8d82115c-b145-433b-eed1-83929187f03d"
      },
      "execution_count": null,
      "outputs": [
        {
          "output_type": "stream",
          "name": "stdout",
          "text": [
            "{'Sunday': 30.5, 'Monday': 32.6, 'Tuesday': 31.8, 'Wednesday': 33.4, 'Thursday': 29.8, 'Friday': 30.2, 'Saturday': 29.9}\n"
          ]
        }
      ]
    },
    {
      "cell_type": "markdown",
      "source": [
        "Existen diferentes opciones para definir diccionarios en Python. La manera mas habitual que utilizo para crear un diccionario, es exactamente utilizando clave - valor"
      ],
      "metadata": {
        "id": "ov3jCDcNr8cH"
      }
    },
    {
      "cell_type": "code",
      "source": [
        "diccionario = {\"clave1\":\"valor1\",\"clave2\":\"valor2\"}"
      ],
      "metadata": {
        "id": "7MDfl9jpr-Tg"
      },
      "execution_count": null,
      "outputs": []
    },
    {
      "cell_type": "markdown",
      "source": [
        "##ENSEÑANZA DE DICCIONARIOS.\n",
        "Los diccionarios almacenan pares de objetos clave-valor. En contraste con las listas, los diccionarios no garantizan que se mantenga el orden en que sus objetos han sido almacenados. Además, en un diccionario el acceso a un objeto se realiza indicando la clave de ese objeto. Este es otro elemento diferenciador entre diccionarios y listas, donde el acceso a los objetos se realiza indicando la posición que ocupan. Los diccionarios utilizan llaves ({}) para encerrar a sus elementos, y dos puntos (:) para indicar las claves y sus valores asociados.\n",
        "\n",
        "\n",
        "llaves = Clave1  no puede haber claves duplicadas y éstas tienen que ser objetos inmutables.  \n",
        "\n",
        "valores = Valor1  no existe ninguna restricción en cuanto a los tipos de datos.\n",
        "\n",
        "**diccionario = {'clave1':'valor1', 'clave2':'valor2'}**\n",
        "\n"
      ],
      "metadata": {
        "id": "bbUskE3vtg97"
      }
    },
    {
      "cell_type": "code",
      "source": [
        "diccionario = {'clave1':'valor1', 'clave2':'valor2'}\n",
        "type(diccionario)"
      ],
      "metadata": {
        "colab": {
          "base_uri": "https://localhost:8080/"
        },
        "id": "NzTWKMQ6vmrg",
        "outputId": "a5cf189d-fc49-4d6f-cc58-dcf71f598e99"
      },
      "execution_count": null,
      "outputs": [
        {
          "output_type": "execute_result",
          "data": {
            "text/plain": [
              "dict"
            ]
          },
          "metadata": {},
          "execution_count": 5
        }
      ]
    },
    {
      "cell_type": "markdown",
      "source": [
        "##Metodo Diccionarios:\n",
        "##d.keys(): Devuelve una lista que contiene las llaves del diccionario.\n",
        "\n"
      ],
      "metadata": {
        "id": "WdTw838Xwk94"
      }
    },
    {
      "cell_type": "code",
      "source": [
        "capitales = {'Inglaterra':'Londres', 'Francia':'Paris', 'Italia':'Roma'}\n",
        "list(capitales.keys())"
      ],
      "metadata": {
        "colab": {
          "base_uri": "https://localhost:8080/"
        },
        "id": "5QbDpoR9wuDV",
        "outputId": "ed518975-c5dd-41c5-a3fb-6d6970bee990"
      },
      "execution_count": null,
      "outputs": [
        {
          "output_type": "execute_result",
          "data": {
            "text/plain": [
              "['Inglaterra', 'Francia', 'Italia']"
            ]
          },
          "metadata": {},
          "execution_count": 18
        }
      ]
    },
    {
      "cell_type": "markdown",
      "source": [
        "##d.values(): Devuelve una lista que contiene los valores del diccionario."
      ],
      "metadata": {
        "id": "gXqs4YJEwx6l"
      }
    },
    {
      "cell_type": "code",
      "source": [
        "capitales = {'Inglaterra':'Londres', 'Francia':'Paris', 'Italia':'Roma'}\n",
        "list(capitales.values())"
      ],
      "metadata": {
        "colab": {
          "base_uri": "https://localhost:8080/"
        },
        "id": "H2p8IkPww1K1",
        "outputId": "342cff4d-e1ec-48e3-f36e-a6c26ee8b31a"
      },
      "execution_count": null,
      "outputs": [
        {
          "output_type": "execute_result",
          "data": {
            "text/plain": [
              "['Londres', 'Paris', 'Roma']"
            ]
          },
          "metadata": {},
          "execution_count": 20
        }
      ]
    },
    {
      "cell_type": "markdown",
      "source": [
        "##d.items(): Devuelve una lista de tuplas con los pares clave-valor del diccionario."
      ],
      "metadata": {
        "id": "o90iT0s2xcn2"
      }
    },
    {
      "cell_type": "code",
      "source": [
        "capitales = {'Inglaterra':'Londres', 'Francia':'Paris', 'Italia':'Roma'}\n",
        "list(capitales.items())"
      ],
      "metadata": {
        "colab": {
          "base_uri": "https://localhost:8080/"
        },
        "id": "CKIbnLglxiG-",
        "outputId": "41e2975b-dae9-46ac-e263-2d07f21bc5fd"
      },
      "execution_count": null,
      "outputs": [
        {
          "output_type": "execute_result",
          "data": {
            "text/plain": [
              "[('Inglaterra', 'Londres'), ('Francia', 'Paris'), ('Italia', 'Roma')]"
            ]
          },
          "metadata": {},
          "execution_count": 8
        }
      ]
    },
    {
      "cell_type": "markdown",
      "source": [
        "##d.clear(): Elimina todos los elementos del diccionario."
      ],
      "metadata": {
        "id": "bM18Bx70xmvm"
      }
    },
    {
      "cell_type": "code",
      "source": [
        "capitales = {'Inglaterra':'Londres', 'Francia':'Paris', 'Italia':'Roma'}\n",
        "capitales.clear()\n",
        "capitales"
      ],
      "metadata": {
        "colab": {
          "base_uri": "https://localhost:8080/"
        },
        "id": "65obNkYmxmWl",
        "outputId": "43449aed-2b80-4e49-de90-6ea6a7189b04"
      },
      "execution_count": null,
      "outputs": [
        {
          "output_type": "execute_result",
          "data": {
            "text/plain": [
              "{}"
            ]
          },
          "metadata": {},
          "execution_count": 9
        }
      ]
    },
    {
      "cell_type": "markdown",
      "source": [
        "##d.get(clave, valor_por_defecto): Devuelve el valor de la clave indicada en caso que ésta exista. En caso contrario devuelve el valor por defecto."
      ],
      "metadata": {
        "id": "OXE7uq3byfEl"
      }
    },
    {
      "cell_type": "code",
      "source": [
        "capitales = {'Inglaterra':'Londres', 'Francia':'Paris', 'Italia':'Roma'}\n",
        "capitales.get('Alemania', 'Desconocida')"
      ],
      "metadata": {
        "colab": {
          "base_uri": "https://localhost:8080/",
          "height": 35
        },
        "id": "EQy_vRX_yhIl",
        "outputId": "454d9e19-3cac-4224-8f40-a957a644d3f7"
      },
      "execution_count": null,
      "outputs": [
        {
          "output_type": "execute_result",
          "data": {
            "text/plain": [
              "'Desconocida'"
            ],
            "application/vnd.google.colaboratory.intrinsic+json": {
              "type": "string"
            }
          },
          "metadata": {},
          "execution_count": 15
        }
      ]
    },
    {
      "cell_type": "markdown",
      "source": [
        "##d.pop(clave, valor_por_defecto): Elimina la clave indicada y devuelve su valor. En caso que el diccionario no contenga la clave especificada, retorna el valor por defecto."
      ],
      "metadata": {
        "id": "yDv7yKH4yLhF"
      }
    },
    {
      "cell_type": "code",
      "source": [
        "capitales = {'Inglaterra':'Londres', 'Francia':'Paris', 'Italia':'Roma'}\n",
        "capitales.pop('Francia')\n"
      ],
      "metadata": {
        "colab": {
          "base_uri": "https://localhost:8080/",
          "height": 35
        },
        "id": "EDzldI37yLHN",
        "outputId": "2020b11f-7c87-4ce8-c6fa-a0e95881b444"
      },
      "execution_count": null,
      "outputs": [
        {
          "output_type": "execute_result",
          "data": {
            "text/plain": [
              "'Paris'"
            ],
            "application/vnd.google.colaboratory.intrinsic+json": {
              "type": "string"
            }
          },
          "metadata": {},
          "execution_count": 12
        }
      ]
    },
    {
      "cell_type": "code",
      "source": [
        "capitales"
      ],
      "metadata": {
        "colab": {
          "base_uri": "https://localhost:8080/"
        },
        "id": "Z6wYdLQjyYo1",
        "outputId": "e91e5980-7fda-422b-b314-5dd533cf2f94"
      },
      "execution_count": null,
      "outputs": [
        {
          "output_type": "execute_result",
          "data": {
            "text/plain": [
              "{'Inglaterra': 'Londres', 'Italia': 'Roma'}"
            ]
          },
          "metadata": {},
          "execution_count": 13
        }
      ]
    },
    {
      "cell_type": "code",
      "source": [
        "capitales.pop('Alemania', 'Berlin')"
      ],
      "metadata": {
        "colab": {
          "base_uri": "https://localhost:8080/",
          "height": 35
        },
        "id": "_gBZISs6yZv9",
        "outputId": "55fc6f63-06d7-4003-b87a-c3e2e4e8a1cc"
      },
      "execution_count": null,
      "outputs": [
        {
          "output_type": "execute_result",
          "data": {
            "text/plain": [
              "'Berlin'"
            ],
            "application/vnd.google.colaboratory.intrinsic+json": {
              "type": "string"
            }
          },
          "metadata": {},
          "execution_count": 14
        }
      ]
    },
    {
      "cell_type": "markdown",
      "source": [
        "##Operaciones con interprete.\n",
        "En el caso de los diccionarios, el interprete nos proporciona la función len(). Esta función nos retorna el número de pares clave-valor de un diccionario."
      ],
      "metadata": {
        "id": "VoSFcnnCzqaj"
      }
    },
    {
      "cell_type": "code",
      "source": [
        "capitales = {'Inglaterra':'Londres', 'Francia':'Paris', 'Italia':'Roma','Colombia':'Bogota'}\n",
        "len(capitales)"
      ],
      "metadata": {
        "colab": {
          "base_uri": "https://localhost:8080/"
        },
        "id": "xhn1toPszdYd",
        "outputId": "a2e63627-ace0-4414-8af1-9715bfd01d60"
      },
      "execution_count": null,
      "outputs": [
        {
          "output_type": "execute_result",
          "data": {
            "text/plain": [
              "4"
            ]
          },
          "metadata": {},
          "execution_count": 22
        }
      ]
    },
    {
      "cell_type": "markdown",
      "source": [
        "##Modificar los objetos de un diccionario\n",
        "\n",
        "Para acceder a un objeto determinado de un diccionario tenemos que indicar entre corchetes el nombre de su clave. De modo muy similar podemos modificar el valor de una clave asignándole un nuevo valor mediante el signo igual (=). Además, también podemos añadir un nuevo par clave-valor indicando simplemente el nombre de la clave a añadir. Estas operaciones se ilustran en el siguiente bloque de código donde: i) accedemos al precio de las manzanas, ii) modificamos el precio de las manzanas y iii) añadimos el precio del agua al diccionario de precios."
      ],
      "metadata": {
        "id": "LlkTbQD209U1"
      }
    },
    {
      "cell_type": "code",
      "source": [
        "precios = {'pasta':0.9, 'patatas':2.55, 'manzanas':0.35}\n",
        "precios['manzanas']"
      ],
      "metadata": {
        "colab": {
          "base_uri": "https://localhost:8080/"
        },
        "id": "-Bc0Z6CI1CIz",
        "outputId": "037b680d-6d07-4ec9-89e4-b3d7d424e5af"
      },
      "execution_count": null,
      "outputs": [
        {
          "output_type": "execute_result",
          "data": {
            "text/plain": [
              "0.35"
            ]
          },
          "metadata": {},
          "execution_count": 23
        }
      ]
    },
    {
      "cell_type": "code",
      "source": [
        "precios['manzanas'] = 0.29\n",
        "precios"
      ],
      "metadata": {
        "colab": {
          "base_uri": "https://localhost:8080/"
        },
        "id": "4GGyZssP1DnL",
        "outputId": "6e81abb1-e3f5-4608-cdc3-023af8beb185"
      },
      "execution_count": null,
      "outputs": [
        {
          "output_type": "execute_result",
          "data": {
            "text/plain": [
              "{'pasta': 0.9, 'patatas': 2.55, 'manzanas': 0.29}"
            ]
          },
          "metadata": {},
          "execution_count": 24
        }
      ]
    },
    {
      "cell_type": "code",
      "source": [
        "precios['agua'] = 1.47\n",
        "precios"
      ],
      "metadata": {
        "colab": {
          "base_uri": "https://localhost:8080/"
        },
        "id": "AGMh27pE1F-7",
        "outputId": "b39c9e0c-f3cc-4ea6-cbf7-f41b55858c6c"
      },
      "execution_count": null,
      "outputs": [
        {
          "output_type": "execute_result",
          "data": {
            "text/plain": [
              "{'pasta': 0.9, 'patatas': 2.55, 'manzanas': 0.29, 'agua': 1.47}"
            ]
          },
          "metadata": {},
          "execution_count": 25
        }
      ]
    },
    {
      "cell_type": "markdown",
      "source": [
        "##Ejemplo por comprensión:"
      ],
      "metadata": {
        "id": "9zPoxb2G6MXt"
      }
    },
    {
      "cell_type": "markdown",
      "source": [
        "##Una lista es una colección ordenada de varios elementos con un nombre común. Es sencillo crear y administrar listas en Python. Para hacerlo más fácil, tenemos el método de comprensión de listas. Este método es mucho más conciso, elegante y, por lo general, es solo una línea de código. Por lo general, implica el uso del bucle for entre corchetes.\n",
        "\n",
        "##Una comprensión de diccionario tiene la forma {clave: valor para(clave, valor) en iterable}"
      ],
      "metadata": {
        "id": "JM69SS7v-cAZ"
      }
    },
    {
      "cell_type": "code",
      "source": [
        "myDict = {x: x**2 for x in [1,2,3,4,5]} \n",
        "print (myDict) "
      ],
      "metadata": {
        "id": "JlVYd6uHBVVo",
        "outputId": "f80969fd-2ae1-47e5-c725-c99c9c2eb065",
        "colab": {
          "base_uri": "https://localhost:8080/"
        }
      },
      "execution_count": null,
      "outputs": [
        {
          "output_type": "stream",
          "name": "stdout",
          "text": [
            "{1: 1, 2: 4, 3: 9, 4: 16, 5: 25}\n"
          ]
        }
      ]
    },
    {
      "cell_type": "code",
      "source": [
        "lst = [i for i in range(1,10)]\n",
        "print(lst)"
      ],
      "metadata": {
        "colab": {
          "base_uri": "https://localhost:8080/"
        },
        "id": "j1AC6RJR6PRN",
        "outputId": "399ab0d3-ee99-493d-b366-f8bee725d8b4"
      },
      "execution_count": null,
      "outputs": [
        {
          "output_type": "stream",
          "name": "stdout",
          "text": [
            "[1, 2, 3, 4, 5, 6, 7, 8, 9]\n"
          ]
        }
      ]
    },
    {
      "cell_type": "markdown",
      "source": [
        "##Todos sabemos que podemos crear una lista de claves y valores de un diccionario. Usando el método de comprensión de diccionario, podemos crear fácilmente un diccionario usando elementos de una lista. Se muestra en el siguiente ejemplo."
      ],
      "metadata": {
        "id": "p1jP70RT-ulB"
      }
    },
    {
      "cell_type": "code",
      "source": [
        "keys = [1,2,3,4,5]\n",
        "vals = ['Mark','Jack','Jake','Sam','Ash']\n",
        "\n",
        "d = {i:j for i,j in zip(keys,vals)}\n",
        "\n",
        "print(d)"
      ],
      "metadata": {
        "colab": {
          "base_uri": "https://localhost:8080/"
        },
        "id": "2x5L3W3S-u5R",
        "outputId": "e31788af-f46e-471f-bd20-6c444ad47d9e"
      },
      "execution_count": null,
      "outputs": [
        {
          "output_type": "stream",
          "name": "stdout",
          "text": [
            "{1: 'Mark', 2: 'Jack', 3: 'Jake', 4: 'Sam', 5: 'Ash'}\n"
          ]
        }
      ]
    },
    {
      "cell_type": "markdown",
      "source": [
        "##EJEMPLO POR LAMBDA"
      ],
      "metadata": {
        "id": "WXxAlvNPM9sJ"
      }
    },
    {
      "cell_type": "code",
      "source": [
        "lis = [{ \"name\" : \"Nandini\", \"age\" : 20}, \n",
        "{ \"name\" : \"Manjeet\", \"age\" : 20 },\n",
        "{ \"name\" : \"Nikhil\" , \"age\" : 19 }]\n",
        " \n",
        "print(\"The list printed sorting by age: \")\n",
        "print(sorted(lis, key = lambda i: i['age'],reverse=True))\n",
        " "
      ],
      "metadata": {
        "id": "UapjW1VxNA0Z"
      },
      "execution_count": null,
      "outputs": []
    },
    {
      "cell_type": "code",
      "source": [
        "print(\"The list printed sorting by age and name: \")\n",
        "print(sorted(lis, key = lambda i:(i['age'], i['name'])))"
      ],
      "metadata": {
        "id": "FEHjWNrKNDRA"
      },
      "execution_count": null,
      "outputs": []
    },
    {
      "cell_type": "markdown",
      "source": [
        "##EJERCICIO 2. BY Nicolás Lopez"
      ],
      "metadata": {
        "id": "xgFpg5Gb-W_u"
      }
    },
    {
      "cell_type": "code",
      "source": [
        "dict1 = {'a': 1, 'b': 2, 'c': 3, 'd': 4, 'e': 5}\n",
        "# Double each value in the dictionary\n",
        "double_dict1 = {k:v*2 for (k,v) in dict1.items()}\n",
        "print(double_dict1)"
      ],
      "metadata": {
        "colab": {
          "base_uri": "https://localhost:8080/"
        },
        "id": "jx3W8LgpFqAr",
        "outputId": "0f4d649e-1f5a-4617-d5db-7f7d0c16ac90"
      },
      "execution_count": null,
      "outputs": [
        {
          "output_type": "stream",
          "name": "stdout",
          "text": [
            "{'a': 2, 'b': 4, 'c': 6, 'd': 8, 'e': 10}\n"
          ]
        }
      ]
    },
    {
      "cell_type": "code",
      "source": [
        "dict1_keys = {k*2:v for (k,v) in dict1.items()}\n",
        "print(dict1_keys)"
      ],
      "metadata": {
        "colab": {
          "base_uri": "https://localhost:8080/"
        },
        "id": "zNDVKzczFvAt",
        "outputId": "3579ce37-0a16-445d-bfe4-35d6633d4253"
      },
      "execution_count": null,
      "outputs": [
        {
          "output_type": "stream",
          "name": "stdout",
          "text": [
            "{'aa': 1, 'bb': 2, 'cc': 3, 'dd': 4, 'ee': 5}\n"
          ]
        }
      ]
    },
    {
      "cell_type": "code",
      "source": [
        "numbers = range(10)\n",
        "new_dict_for = {}"
      ],
      "metadata": {
        "id": "uQIAROI-Fyr6"
      },
      "execution_count": null,
      "outputs": []
    },
    {
      "cell_type": "code",
      "source": [
        "numbers = range(10)\n",
        "new_dict_comp = {n:n**2 for n in numbers if n%2 == 0}\n",
        "print(new_dict_comp)"
      ],
      "metadata": {
        "colab": {
          "base_uri": "https://localhost:8080/"
        },
        "id": "LL860Cv3F3Z6",
        "outputId": "7d698c8b-ec51-4174-a711-85ef04327a6b"
      },
      "execution_count": null,
      "outputs": [
        {
          "output_type": "stream",
          "name": "stdout",
          "text": [
            "{0: 0, 2: 4, 4: 16, 6: 36, 8: 64}\n"
          ]
        }
      ]
    },
    {
      "cell_type": "code",
      "source": [
        "diccionario = {\"x\" : 10, \"y\" : 20, \"z\" : 30}\n",
        "duplicar = {v**2 for (v) in diccionario.values()}\n",
        "duplicar"
      ],
      "metadata": {
        "colab": {
          "base_uri": "https://localhost:8080/"
        },
        "id": "6D70nAdQF40x",
        "outputId": "4dd1aa66-2bdb-4ee0-f8bd-5702280acd82"
      },
      "execution_count": null,
      "outputs": [
        {
          "output_type": "execute_result",
          "data": {
            "text/plain": [
              "{100, 400, 900}"
            ]
          },
          "metadata": {},
          "execution_count": 6
        }
      ]
    },
    {
      "cell_type": "code",
      "source": [
        "numero = range(1,15)\n",
        "diccionario2 = {i:i**2 for i in numero if i%2 == 0}\n",
        "print(diccionario2)"
      ],
      "metadata": {
        "colab": {
          "base_uri": "https://localhost:8080/"
        },
        "id": "fP_iGGN-F7Dz",
        "outputId": "8f4fa622-f3e2-4027-9d60-8c332fc8ce0c"
      },
      "execution_count": null,
      "outputs": [
        {
          "output_type": "stream",
          "name": "stdout",
          "text": [
            "{2: 4, 4: 16, 6: 36, 8: 64, 10: 100, 12: 144, 14: 196}\n"
          ]
        }
      ]
    },
    {
      "cell_type": "code",
      "source": [
        "diccionario = {\"x\" : 10, \"y\" : 20, \"z\" : 30}\n",
        "duplicar = {k+k for (k) in diccionario.keys()}\n",
        "duplicar"
      ],
      "metadata": {
        "colab": {
          "base_uri": "https://localhost:8080/"
        },
        "id": "5HgxbQLHF9up",
        "outputId": "db060b3f-2cf2-4e15-82ac-61e9ad6b8526"
      },
      "execution_count": null,
      "outputs": [
        {
          "output_type": "execute_result",
          "data": {
            "text/plain": [
              "{'xx', 'yy', 'zz'}"
            ]
          },
          "metadata": {},
          "execution_count": 4
        }
      ]
    },
    {
      "cell_type": "code",
      "source": [
        "numbers = range(10)\n",
        "new_dict_for = {}\n",
        "for n in numbers:\n",
        "    if n%2==0:\n",
        "        new_dict_for[n] = n**2\n",
        "print(new_dict_for)"
      ],
      "metadata": {
        "colab": {
          "base_uri": "https://localhost:8080/"
        },
        "id": "1nrSa621GBa1",
        "outputId": "7a86c499-2d79-4fe6-d399-9da54dec86eb"
      },
      "execution_count": null,
      "outputs": [
        {
          "output_type": "stream",
          "name": "stdout",
          "text": [
            "{0: 0, 2: 4, 4: 16, 6: 36, 8: 64}\n"
          ]
        }
      ]
    },
    {
      "cell_type": "code",
      "source": [
        "numbers = range(10)\n",
        "new_dict_comp = {n:n**2 for n in numbers if n%2 == 0}\n",
        "print(new_dict_comp)"
      ],
      "metadata": {
        "colab": {
          "base_uri": "https://localhost:8080/"
        },
        "id": "-WYJyGjGGFbM",
        "outputId": "68486316-c30f-4de2-c74f-f9623edced2c"
      },
      "execution_count": null,
      "outputs": [
        {
          "output_type": "stream",
          "name": "stdout",
          "text": [
            "{0: 0, 2: 4, 4: 16, 6: 36, 8: 64}\n"
          ]
        }
      ]
    },
    {
      "cell_type": "markdown",
      "source": [
        "##EJERCICIO 3. BY Diego"
      ],
      "metadata": {
        "id": "vv4UOa_1Gw9f"
      }
    },
    {
      "cell_type": "code",
      "source": [
        "#Reconoce las claves repetidas sea mayuscula o minuscula y suma sus valores \n",
        "#Tradicional\n",
        "artículos= {\"lápiz\": 8, \"LÁPIZ\": 3,\"Lápiz\":9, \"sacapuntas\": 20, \"SACAPUNTAS\":4, \"BORRADOR\": 3, \"borrador\":3}\n",
        "artículos_repetidos = {vendidos.lower(): artículos.get(vendidos.lower(), 0) + artículos.get(vendidos.upper(), 0) \n",
        "                        for vendidos in artículos.keys()}\n",
        "print(artículos_repetidos)\n",
        " \n",
        "#get():Devuelve el valor correspondiente a la clave especificada."
      ],
      "metadata": {
        "colab": {
          "base_uri": "https://localhost:8080/"
        },
        "id": "y55vhY4LG2C4",
        "outputId": "55657208-78d2-40eb-c6c9-c0ea51caad3a"
      },
      "execution_count": null,
      "outputs": [
        {
          "output_type": "stream",
          "name": "stdout",
          "text": [
            "{'lápiz': 11, 'sacapuntas': 24, 'borrador': 6}\n"
          ]
        }
      ]
    },
    {
      "cell_type": "code",
      "source": [
        "#Función\n",
        "def cantidades_vendidad(artículos):\n",
        " artículos_repetidos = {vendidos.lower(): artículos.get(vendidos.lower(), 0) + artículos.get(vendidos.upper(), 0) \n",
        "                           for vendidos in artículos.keys()}\n",
        " print(artículos_repetidos)\n",
        "\n",
        "artículos= {\"lápiz\": 8, \"LÁPIZ\": 3,\"Lápiz\":9, \"sacapuntas\": 20, \"SACAPUNTAS\":4, \"BORRADOR\": 3, \"borrador\":3} \n",
        "cantidades_vendidad(artículos)"
      ],
      "metadata": {
        "colab": {
          "base_uri": "https://localhost:8080/"
        },
        "id": "ZtsmBanlHerK",
        "outputId": "aec48aee-2fc6-4bfc-93c7-0babc347b2cb"
      },
      "execution_count": null,
      "outputs": [
        {
          "output_type": "stream",
          "name": "stdout",
          "text": [
            "{'lápiz': 11, 'sacapuntas': 24, 'borrador': 6}\n"
          ]
        }
      ]
    },
    {
      "cell_type": "markdown",
      "source": [
        "##EJERCICIO 4. BY Juan Sebastian"
      ],
      "metadata": {
        "id": "ch9PnpNg7tYl"
      }
    },
    {
      "cell_type": "code",
      "source": [
        "#Tradicional\n",
        "import random\n",
        "clientes = [\"Alex\",\"Bob\",\"Carol\",\"David\",\"Flow\",\"Katie\",\"Nate\"] \n",
        "Cliente2 = [\"Bob\",\"Carol\",\"David\",\"Katie\",\"Nate\"] \n",
        "def comprimir(lista):\n",
        "  for i in range(len(lista)):\n",
        "   diccionario_descuentos = {lista:random.randint(1,100) for lista in lista} #En Python, random.randint(i,j) retorna un valor entre i y j incluyendo ambos extremos.\n",
        "  print(diccionario_descuentos)"
      ],
      "metadata": {
        "id": "reqt0rP97-At"
      },
      "execution_count": 9,
      "outputs": []
    },
    {
      "cell_type": "code",
      "source": [
        "comprimir(clientes)"
      ],
      "metadata": {
        "colab": {
          "base_uri": "https://localhost:8080/"
        },
        "id": "C2S3dn4i8IXs",
        "outputId": "ae0f5b16-57fb-41fb-a80a-1c3b5f82d084"
      },
      "execution_count": 11,
      "outputs": [
        {
          "output_type": "stream",
          "name": "stdout",
          "text": [
            "{'Alex': 16, 'Bob': 49, 'Carol': 8, 'David': 57, 'Flow': 49, 'Katie': 29, 'Nate': 68}\n"
          ]
        }
      ]
    },
    {
      "cell_type": "code",
      "source": [
        "#Compresión\n",
        "import random\n",
        "clientes = [\"Alex\",\"Bob\",\"Carol\",\"David\",\"Flow\",\"Katie\",\"Nate\"] \n",
        "diccionario_descuentos = {clientes:random.randint(1,100) for clientes in clientes} #En Python, random.randint(i,j) retorna un valor entre i y j incluyendo ambos extremos.\n",
        "print(diccionario_descuentos)"
      ],
      "metadata": {
        "colab": {
          "base_uri": "https://localhost:8080/"
        },
        "id": "ZAnQp0fr7_FN",
        "outputId": "14dede5f-6faa-4efa-959f-2398ba89b056"
      },
      "execution_count": 10,
      "outputs": [
        {
          "output_type": "stream",
          "name": "stdout",
          "text": [
            "{'Alex': 40, 'Bob': 43, 'Carol': 86, 'David': 97, 'Flow': 82, 'Katie': 56, 'Nate': 11}\n"
          ]
        }
      ]
    },
    {
      "cell_type": "markdown",
      "source": [
        "##EJERCICIO 5. BY Camilo Andrés"
      ],
      "metadata": {
        "id": "Dx1kNUJjGH3M"
      }
    },
    {
      "cell_type": "code",
      "source": [
        "ciudad = [\"Barranquilla\",\"Bogotá\",\"Bucaramanga\",\"Pasto\",\"Cucuta\",\"Pamplona\",\"Riohacha\"]\n",
        "numero_de_habitantes = [1206000,7181000,581130,392930,711715,57803,188014]\n",
        "ciudad_nhabitantes = {ciudad:numero_de_habitantes for (ciudad,numero_de_habitantes) in zip(ciudad,numero_de_habitantes)}\n",
        "\n",
        "print(\"El numero de habitantes en cada ciudad es de: \", end=\"\")\n",
        "print(ciudad_nhabitantes)"
      ],
      "metadata": {
        "colab": {
          "base_uri": "https://localhost:8080/"
        },
        "id": "q9JiShwlHEWp",
        "outputId": "fefe295d-43cf-487c-bad7-0deff863c37b"
      },
      "execution_count": null,
      "outputs": [
        {
          "output_type": "stream",
          "name": "stdout",
          "text": [
            "El numero de habitantes en cada ciudad es de: {'Barranquilla': 1206000, 'Bogotá': 7181000, 'Bucaramanga': 581130, 'Pasto': 392930, 'Cucuta': 711715, 'Pamplona': 57803, 'Riohacha': 188014}\n"
          ]
        }
      ]
    },
    {
      "cell_type": "markdown",
      "source": [
        "##EJERCICIO 6. BY Angelieth\n",
        "\n",
        "Se plantea un ejercicio donde los elementos de dos listas se enlazan con la función zip creando un diccionario. Para mayor complejidad se plantea que de acuerdo a los valores de temperatura de la segunda lista se de una descripción sobre la misma considerando que:\n",
        "**La Temperatura ambiente es de 18 a 25°C**"
      ],
      "metadata": {
        "id": "i2ZmMTz2HmMn"
      }
    },
    {
      "cell_type": "markdown",
      "source": [
        "##**Por comprensión**"
      ],
      "metadata": {
        "id": "I4kiZbInIqDo"
      }
    },
    {
      "cell_type": "markdown",
      "source": [
        "####**Forma 1**"
      ],
      "metadata": {
        "id": "ijABa-5OIsyT"
      }
    },
    {
      "cell_type": "code",
      "source": [
        "dias=[\"Lunes\", \"Martes\", \"Miércoles\", \"Jueves\", \"Viernes\", \"Sábado\", \"Domingo\"]"
      ],
      "metadata": {
        "id": "GCUxdbStH9oi"
      },
      "execution_count": null,
      "outputs": []
    },
    {
      "cell_type": "code",
      "source": [
        "temp=[30.5, 12.0, 26.5, 20.0, 25.5, 11.5, 22.3]"
      ],
      "metadata": {
        "id": "oCNs67RtIyHY"
      },
      "execution_count": null,
      "outputs": []
    },
    {
      "cell_type": "code",
      "source": [
        "#Se crea el diccionario enlazando ambas listas\n",
        "temp_semanal={dias: temp for (dias, temp) in zip(dias, temp)}\n",
        "print(temp_semanal)"
      ],
      "metadata": {
        "colab": {
          "base_uri": "https://localhost:8080/"
        },
        "id": "GvslzSeTI0Pg",
        "outputId": "bf661182-fc70-496b-e802-41985a7721a5"
      },
      "execution_count": null,
      "outputs": [
        {
          "output_type": "stream",
          "name": "stdout",
          "text": [
            "{'Lunes': 30.5, 'Martes': 12.0, 'Miércoles': 26.5, 'Jueves': 20.0, 'Viernes': 25.5, 'Sábado': 11.5, 'Domingo': 22.3}\n"
          ]
        }
      ]
    },
    {
      "cell_type": "markdown",
      "source": [
        "####**Forma 2**\n",
        "Aquí hay mayor complejidad, como la función solo asigna un único valor para la cada clave, entonces se procede a crear una tupla que contenga el valor de la temperatura y con su descripción. Luego el día es la clave y se le asigna dicha tupla como valor "
      ],
      "metadata": {
        "id": "gf3Rc1GDI7zL"
      }
    },
    {
      "cell_type": "code",
      "source": [
        "#[(30.5,\"Temperatura caliente\"),(),()]\n",
        "ttupla=[]\n",
        "for i in temp:\n",
        "  \n",
        "  if i<18:\n",
        "    print(\"Temperatura fría\")\n",
        "    ttupla.append((i,\"Temperatura fría\"))\n",
        "  elif i>18 and i<25:\n",
        "    print(\"Temperatura ambiente\")\n",
        "    ttupla.append((i,\"Temperatura ambiente\"))\n",
        "  elif i>25: \n",
        "    print(\"Temperatura caliente\")\n",
        "    ttupla.append((i,\"Temperatura caliente\"))"
      ],
      "metadata": {
        "colab": {
          "base_uri": "https://localhost:8080/"
        },
        "id": "9njicYJ8I9sK",
        "outputId": "03a18753-1669-4b34-e561-42e56b0f2c5d"
      },
      "execution_count": null,
      "outputs": [
        {
          "output_type": "stream",
          "name": "stdout",
          "text": [
            "Temperatura caliente\n",
            "Temperatura fría\n",
            "Temperatura caliente\n",
            "Temperatura ambiente\n",
            "Temperatura caliente\n",
            "Temperatura fría\n",
            "Temperatura ambiente\n"
          ]
        }
      ]
    },
    {
      "cell_type": "code",
      "source": [
        "#Tupla hecha con la temperatura y su descripción\n",
        "ttupla"
      ],
      "metadata": {
        "colab": {
          "base_uri": "https://localhost:8080/"
        },
        "id": "s_xk4E-IJIT7",
        "outputId": "29e9dcd5-7f9e-48f4-ca65-9e4b46774ca5"
      },
      "execution_count": null,
      "outputs": [
        {
          "output_type": "execute_result",
          "data": {
            "text/plain": [
              "[(30.5, 'Temperatura caliente'),\n",
              " (12.0, 'Temperatura fría'),\n",
              " (26.5, 'Temperatura caliente'),\n",
              " (20.0, 'Temperatura ambiente'),\n",
              " (25.5, 'Temperatura caliente'),\n",
              " (11.5, 'Temperatura fría'),\n",
              " (22.3, 'Temperatura ambiente')]"
            ]
          },
          "metadata": {},
          "execution_count": 18
        }
      ]
    },
    {
      "cell_type": "code",
      "source": [
        "#Creación del diccionario \n",
        "resultado = {dias: ttupla for (dias, ttupla) in zip(dias, ttupla)} \n",
        "resultado"
      ],
      "metadata": {
        "colab": {
          "base_uri": "https://localhost:8080/"
        },
        "id": "S664cj_iJL-I",
        "outputId": "7ed51954-b345-45a9-8ade-8df27b4d169f"
      },
      "execution_count": null,
      "outputs": [
        {
          "output_type": "execute_result",
          "data": {
            "text/plain": [
              "{'Lunes': (30.5, 'Temperatura caliente'),\n",
              " 'Martes': (12.0, 'Temperatura fría'),\n",
              " 'Miércoles': (26.5, 'Temperatura caliente'),\n",
              " 'Jueves': (20.0, 'Temperatura ambiente'),\n",
              " 'Viernes': (25.5, 'Temperatura caliente'),\n",
              " 'Sábado': (11.5, 'Temperatura fría'),\n",
              " 'Domingo': (22.3, 'Temperatura ambiente')}"
            ]
          },
          "metadata": {},
          "execution_count": 19
        }
      ]
    },
    {
      "cell_type": "markdown",
      "source": [
        "##**Ejercicio modo función**"
      ],
      "metadata": {
        "id": "A8dxiqMTJFFL"
      }
    },
    {
      "cell_type": "code",
      "source": [
        "dias=[\"Lunes\", \"Martes\", \"Miércoles\", \"Jueves\", \"Viernes\", \"Sábado\", \"Domingo\"]"
      ],
      "metadata": {
        "id": "yGF218a0JRk6"
      },
      "execution_count": null,
      "outputs": []
    },
    {
      "cell_type": "code",
      "source": [
        "temp=[30.5, 12.0, 26.5, 20.0, 25.5, 11.5, 22.3]"
      ],
      "metadata": {
        "id": "R6MvCcLlJV5c"
      },
      "execution_count": null,
      "outputs": []
    },
    {
      "cell_type": "code",
      "source": [
        "#Fución que permite crear la tupla, compara los valores de la temperatura para generar la descipción\n",
        "def comparar (ttuppla):\n",
        "  ttupla=[]\n",
        "  for i in temp:\n",
        "   if i<18:\n",
        "    ttupla.append((i,\"Temperatura fría\"))\n",
        "   elif i>18 and i<25:\n",
        "    ttupla.append((i,\"Temperatura ambiente\"))\n",
        "   elif i>25: \n",
        "    ttupla.append((i,\"Temperatura caliente\"))\n",
        "  return ttupla"
      ],
      "metadata": {
        "id": "4lTNtKlaJYLf"
      },
      "execution_count": null,
      "outputs": []
    },
    {
      "cell_type": "code",
      "source": [
        "tupla=comparar(temp)"
      ],
      "metadata": {
        "id": "71s8bg1RJjNN"
      },
      "execution_count": null,
      "outputs": []
    },
    {
      "cell_type": "code",
      "source": [
        "def enlace (dias, ttupla):\n",
        "  resultado = {dias:ttupla for (dias, ttupla) in zip(dias, ttupla)} \n",
        "  return resultado"
      ],
      "metadata": {
        "id": "kQgobjSxJle3"
      },
      "execution_count": null,
      "outputs": []
    },
    {
      "cell_type": "code",
      "source": [
        "#Diccionario terminado \n",
        "enlace(dias, tupla)"
      ],
      "metadata": {
        "colab": {
          "base_uri": "https://localhost:8080/"
        },
        "id": "486jVcFLJoI0",
        "outputId": "fb9efd7c-7a24-4978-a7b7-20cd542f56e9"
      },
      "execution_count": null,
      "outputs": [
        {
          "output_type": "execute_result",
          "data": {
            "text/plain": [
              "{'Lunes': (30.5, 'Temperatura caliente'),\n",
              " 'Martes': (12.0, 'Temperatura fría'),\n",
              " 'Miércoles': (26.5, 'Temperatura caliente'),\n",
              " 'Jueves': (20.0, 'Temperatura ambiente'),\n",
              " 'Viernes': (25.5, 'Temperatura caliente'),\n",
              " 'Sábado': (11.5, 'Temperatura fría'),\n",
              " 'Domingo': (22.3, 'Temperatura ambiente')}"
            ]
          },
          "metadata": {},
          "execution_count": 10
        }
      ]
    },
    {
      "cell_type": "markdown",
      "source": [
        "###**Usando lambda y map** "
      ],
      "metadata": {
        "id": "c1TzGR8NKAoO"
      }
    },
    {
      "cell_type": "markdown",
      "source": [
        "###**Forma 1** "
      ],
      "metadata": {
        "id": "dPHjT84KKHab"
      }
    },
    {
      "cell_type": "code",
      "source": [
        "def temp2(temp):#donde temp es una lista\n",
        "  '''\n",
        "  Esta función tiene como objetivo asociar a una temperatura una descripción\n",
        "  '''\n",
        "  ttupla=[]\n",
        "  for i in temp:\n",
        "    if i<18: ttupla.append((i,\"Temperatura fría\"))\n",
        "    if i>=18 and i<25: ttupla.append((i,\"Temperatura ambiente\"))\n",
        "    if i>=25: ttupla.append((i,\"Temperatura caliente\"))\n",
        "  return ttupla"
      ],
      "metadata": {
        "id": "sqVmSEonKCJx"
      },
      "execution_count": null,
      "outputs": []
    },
    {
      "cell_type": "code",
      "source": [
        "def clima2(l1,l2):\n",
        "  y2=temp2(l2)\n",
        "  return dict(map(lambda dias,tupla:(dias,tupla),l1,y2))\n",
        "\n",
        "clima2(dias,temp)"
      ],
      "metadata": {
        "colab": {
          "base_uri": "https://localhost:8080/"
        },
        "id": "Xv3J3SkXKL2g",
        "outputId": "2837fed1-5f8d-4079-a1ed-a922b6a2f5cd"
      },
      "execution_count": null,
      "outputs": [
        {
          "output_type": "execute_result",
          "data": {
            "text/plain": [
              "{'Lunes': (30.5, 'Temperatura caliente'),\n",
              " 'Martes': (12.0, 'Temperatura fría'),\n",
              " 'Miércoles': (26.5, 'Temperatura caliente'),\n",
              " 'Jueves': (20.0, 'Temperatura ambiente'),\n",
              " 'Viernes': (25.5, 'Temperatura caliente'),\n",
              " 'Sábado': (11.5, 'Temperatura fría'),\n",
              " 'Domingo': (22.3, 'Temperatura ambiente')}"
            ]
          },
          "metadata": {},
          "execution_count": 13
        }
      ]
    },
    {
      "cell_type": "markdown",
      "source": [
        "##**Forma 2**"
      ],
      "metadata": {
        "id": "iu-73ZNpK8mM"
      }
    },
    {
      "cell_type": "code",
      "source": [
        "#asignar a una temperatura una descripción\n",
        "a1=lambda x: (x,\"Temperatura ambiente\") if (x>=18 and x<25) else (x,\"Temperatura fría\") if x<18 else (x,\"Temperatura caliente\")"
      ],
      "metadata": {
        "id": "47DkuX7KK_ec"
      },
      "execution_count": null,
      "outputs": []
    },
    {
      "cell_type": "code",
      "source": [
        "a2=list(map(a1,temp))\n",
        "a2"
      ],
      "metadata": {
        "colab": {
          "base_uri": "https://localhost:8080/"
        },
        "id": "PIbu85DpLCcc",
        "outputId": "980cb5b5-1a32-4e65-f2a8-49df3d9eb2cc"
      },
      "execution_count": null,
      "outputs": [
        {
          "output_type": "execute_result",
          "data": {
            "text/plain": [
              "[(30.5, 'Temperatura caliente'),\n",
              " (12.0, 'Temperatura fría'),\n",
              " (26.5, 'Temperatura caliente'),\n",
              " (20.0, 'Temperatura ambiente'),\n",
              " (25.5, 'Temperatura caliente'),\n",
              " (11.5, 'Temperatura fría'),\n",
              " (22.3, 'Temperatura ambiente')]"
            ]
          },
          "metadata": {},
          "execution_count": 15
        }
      ]
    },
    {
      "cell_type": "code",
      "source": [
        "a3=dict(map(lambda x1,x2:(x1,x2),dias,a2))\n",
        "a3"
      ],
      "metadata": {
        "colab": {
          "base_uri": "https://localhost:8080/"
        },
        "id": "OjhP7xodLES8",
        "outputId": "8b414c35-0401-4492-bea5-fa31a177b5a6"
      },
      "execution_count": null,
      "outputs": [
        {
          "output_type": "execute_result",
          "data": {
            "text/plain": [
              "{'Lunes': (30.5, 'Temperatura caliente'),\n",
              " 'Martes': (12.0, 'Temperatura fría'),\n",
              " 'Miércoles': (26.5, 'Temperatura caliente'),\n",
              " 'Jueves': (20.0, 'Temperatura ambiente'),\n",
              " 'Viernes': (25.5, 'Temperatura caliente'),\n",
              " 'Sábado': (11.5, 'Temperatura fría'),\n",
              " 'Domingo': (22.3, 'Temperatura ambiente')}"
            ]
          },
          "metadata": {},
          "execution_count": 16
        }
      ]
    },
    {
      "cell_type": "markdown",
      "source": [
        "##EJERCICIO 7. BY Eliana \n",
        "\n",
        "**Por Comprensión**"
      ],
      "metadata": {
        "id": "y-36o6dtLNbx"
      }
    },
    {
      "cell_type": "code",
      "source": [
        "ini_dict = {\"A\":1, \"B\":-2, \"C\":-3, \"D\":7, \"E\":0, \"F\":-11, \"G\":16, \"H\":-7} \n",
        " \n",
        "print (\"Vamos a filtar los números positivos del siguiente diccionario:\",ini_dict) \n",
        "resultado = dict((k, v) for k, v in ini_dict.items() if v >= 0) \n",
        " \n",
        "print(\"Resultado: \", (resultado))"
      ],
      "metadata": {
        "colab": {
          "base_uri": "https://localhost:8080/"
        },
        "id": "JxG6RY06LlgI",
        "outputId": "5d0ec0ec-a95b-4968-9dae-9cf8ff9d78fe"
      },
      "execution_count": null,
      "outputs": [
        {
          "output_type": "stream",
          "name": "stdout",
          "text": [
            "Vamos a filtar los números positivos del siguiente diccionario: {'A': 1, 'B': -2, 'C': -3, 'D': 7, 'E': 0, 'F': -11, 'G': 16, 'H': -7}\n",
            "Resultado:  {'A': 1, 'D': 7, 'E': 0, 'G': 16}\n"
          ]
        }
      ]
    },
    {
      "cell_type": "markdown",
      "source": [
        "**Lambda**"
      ],
      "metadata": {
        "id": "kX4_eOyzL82l"
      }
    },
    {
      "cell_type": "code",
      "source": [
        "ini_dict = {\"A\":1, \"B\":-2, \"C\":-3, \"D\":7/7, \"E\":0, \"F\":-11, \"G\":16, \"H\":-7} \n",
        "   \n",
        "print (\"Vamos a filtar los números positivos del siguiente diccionario:\",(ini_dict))  \n",
        "   \n",
        "resultado = dict(filter(lambda x: x[1] >= 0.0, ini_dict.items())) #lambda se usa como argumento de filter \n",
        "resultado = dict(resultado)  \n",
        "   \n",
        "print(\"Resultado: \",resultado)"
      ],
      "metadata": {
        "colab": {
          "base_uri": "https://localhost:8080/"
        },
        "id": "WS3VYkGqLunS",
        "outputId": "4b60f050-51ab-4474-b9a8-7581c97d76ea"
      },
      "execution_count": null,
      "outputs": [
        {
          "output_type": "stream",
          "name": "stdout",
          "text": [
            "Vamos a filtar los números positivos del siguiente diccionario: {'A': 1, 'B': -2, 'C': -3, 'D': 1.0, 'E': 0, 'F': -11, 'G': 16, 'H': -7}\n",
            "Resultado:  {'A': 1, 'D': 1.0, 'E': 0, 'G': 16}\n"
          ]
        }
      ]
    },
    {
      "cell_type": "markdown",
      "source": [
        "**Por Función**"
      ],
      "metadata": {
        "id": "yCSQMQBZMKFy"
      }
    },
    {
      "cell_type": "code",
      "source": [
        "D = {\"A\":1, \"B\":-2, \"C\":-3, \"D\":7/7, \"E\":0, \"F\":-11, \"G\":16, \"H\":-7} \n",
        " \n",
        "def funcion (): \n",
        " \n",
        "  print(\"Vamos a filtrar los números positivos del siguiente diccionario:\" ,(D)) \n",
        "  resultado=dict(filter(lambda D: D[1] >= 0.0, D.items())) \n",
        "  return print(resultado) \n",
        " \n",
        "funcion()"
      ],
      "metadata": {
        "colab": {
          "base_uri": "https://localhost:8080/"
        },
        "id": "fbO_mmbbMP_S",
        "outputId": "ba5fc057-7765-4fa6-f8ce-61c2bd54b088"
      },
      "execution_count": null,
      "outputs": [
        {
          "output_type": "stream",
          "name": "stdout",
          "text": [
            "Vamos a filtrar los números positivos del siguiente diccionario: {'A': 1, 'B': -2, 'C': -3, 'D': 1.0, 'E': 0, 'F': -11, 'G': 16, 'H': -7}\n",
            "{'A': 1, 'D': 1.0, 'E': 0, 'G': 16}\n"
          ]
        }
      ]
    },
    {
      "cell_type": "markdown",
      "source": [
        "##EJERCICIO 8. BY Silvia\n",
        "\n",
        "**Diccionario por comprensión**"
      ],
      "metadata": {
        "id": "IZOi2gEbMesu"
      }
    },
    {
      "cell_type": "code",
      "source": [
        "name=[\"Ana\", \"Junita\", \"Carlos\"]\n",
        "years=[17,17,23]\n",
        "\n",
        "sh = {name:years for (name,years) in zip(name,years)}\n",
        "\n",
        "print(sh)\n",
        "\n",
        "b=\"Los hermanxs son trillizos\" if (years [0]==years[1] and years [0]==years [2]) else \"\"\n",
        "c=\"Los hermanxs son gemelos\" if (years [0]==years [1] or years [0]==years [2] or years [1]==years [2]) else\"\"\n",
        "\n",
        "print(b,c)"
      ],
      "metadata": {
        "colab": {
          "base_uri": "https://localhost:8080/"
        },
        "id": "21sJdPfXMt0g",
        "outputId": "5d2b0d7d-cc4e-4cf3-c1f4-e9b9fa267d8f"
      },
      "execution_count": null,
      "outputs": [
        {
          "output_type": "stream",
          "name": "stdout",
          "text": [
            "{'Ana': 17, 'Junita': 17, 'Carlos': 23}\n",
            " Los hermanxs son gemelos\n"
          ]
        }
      ]
    },
    {
      "cell_type": "markdown",
      "source": [
        "**Función**"
      ],
      "metadata": {
        "id": "_tr3992lM7vc"
      }
    },
    {
      "cell_type": "code",
      "source": [
        "name=[\"Ana\", \"Junita\", \"Carlos\"]\n",
        "years=[17,17,23]\n",
        "\n",
        "sh = {name:years for (name,years) in zip(name,years)}\n",
        "\n",
        "def funcion ():\n",
        " \n",
        "  print(sh)\n",
        "\n",
        "  b=\"Los hermanxs son trillizos\" if (years [0]==years[1] and years [0]==years [2]) else \"\"\n",
        "  c=\"Los hermanxs son gemelos\" if (years [0]==years [1] or years [0]==years [2] or years [1]==years [2]) else\"\"\n",
        "\n",
        "  print(b,c)"
      ],
      "metadata": {
        "id": "PfJPTVTZNCo7"
      },
      "execution_count": null,
      "outputs": []
    },
    {
      "cell_type": "code",
      "source": [
        "funcion()"
      ],
      "metadata": {
        "colab": {
          "base_uri": "https://localhost:8080/"
        },
        "id": "eAKzmXlSNFte",
        "outputId": "174c45c4-c02b-4fcd-8ce7-8304c27d5908"
      },
      "execution_count": null,
      "outputs": [
        {
          "output_type": "stream",
          "name": "stdout",
          "text": [
            "{'Ana': 17, 'Junita': 17, 'Carlos': 23}\n",
            " Los hermanxs son gemelos\n"
          ]
        }
      ]
    },
    {
      "cell_type": "markdown",
      "source": [
        "**Lambda**"
      ],
      "metadata": {
        "id": "6n_WM2gNNPaf"
      }
    },
    {
      "cell_type": "code",
      "source": [
        "name=[\"Ana\", \"Junita\", \"Carlos\"]\n",
        "years=[17,17,23]\n",
        "\n",
        "sh = {name:years for (name,years) in zip(name,years)}\n",
        "\n",
        "gemelos=lambda name,years:\"Los hermanxs son trillizos\" if (years [0]==years[1] and years [0]==years [2]) else \"\"\n",
        "print(gemelos)"
      ],
      "metadata": {
        "colab": {
          "base_uri": "https://localhost:8080/"
        },
        "id": "4N7xTp02NQ-e",
        "outputId": "aee50c78-d749-4c4a-c735-dcfafd2ee504"
      },
      "execution_count": null,
      "outputs": [
        {
          "output_type": "stream",
          "name": "stdout",
          "text": [
            "<function <lambda> at 0x7fa322dd0b90>\n"
          ]
        }
      ]
    },
    {
      "cell_type": "code",
      "source": [
        "name=['Ana','Juanita','Carlos']\n",
        "years=[17,17,23]\n",
        "sh={name:years for (name,years) in zip (name,years)}\n",
        "gemelos=(lambda name,years:\"Los hermanos son trillizos\"if (years [0]==years[1] and years[0]==years[2]) else \" Jummm sospechoso\")\n",
        "print(gemelos(name,years))"
      ],
      "metadata": {
        "colab": {
          "base_uri": "https://localhost:8080/"
        },
        "id": "BlllmRA0NWAc",
        "outputId": "779f0a63-1e6f-42ea-af38-d669d2e22b7b"
      },
      "execution_count": null,
      "outputs": [
        {
          "output_type": "stream",
          "name": "stdout",
          "text": [
            " Jummm sospechoso\n"
          ]
        }
      ]
    },
    {
      "cell_type": "markdown",
      "source": [
        "##EJERCICIO 9. By Diego \n",
        "\n",
        "Diccionarios , nombre del producto y precio. Calcular el iba y sumarselo y dar el valor con iva\n",
        "\n",
        "**Compresión**"
      ],
      "metadata": {
        "id": "JTqY2EXgNgfO"
      }
    },
    {
      "cell_type": "code",
      "source": [
        "def mercado():\n",
        "  di1={'milk':0.75,'meat':10.69,'eggs':2.14,'bread':1.07}\n",
        "  di2={  x:y*1.19 for (x,y) in di1.items()}\n",
        "  print(f'El precio sin IVA de los productos es: {di1}')\n",
        "  print(f'El precio con IVA de los productos es:{di2} ')\n",
        "  return"
      ],
      "metadata": {
        "id": "h5GHHw76N5pq"
      },
      "execution_count": null,
      "outputs": []
    },
    {
      "cell_type": "code",
      "source": [
        "mercado()"
      ],
      "metadata": {
        "colab": {
          "base_uri": "https://localhost:8080/"
        },
        "id": "X1lGFNmN6VWS",
        "outputId": "10b311d2-1076-47d2-d9e4-6ec93142baf1"
      },
      "execution_count": null,
      "outputs": [
        {
          "output_type": "stream",
          "name": "stdout",
          "text": [
            "El precio sin IVA de los productos es: {'milk': 0.75, 'meat': 10.69, 'eggs': 2.14, 'bread': 1.07}\n",
            "El precio con IVA de los productos es:{'milk': 0.8925, 'meat': 12.721099999999998, 'eggs': 2.5466, 'bread': 1.2733} \n"
          ]
        }
      ]
    },
    {
      "cell_type": "markdown",
      "source": [
        "**Lambda**"
      ],
      "metadata": {
        "id": "8IrxrEZ2OXeG"
      }
    },
    {
      "cell_type": "code",
      "source": [
        "def mercadolamb():\n",
        "  di1={'milk':0.75,'meat':10.69,'eggs':2.14,'bread':1.07}\n",
        "  lista=list(di1.keys())\n",
        "  lista2=list(di1.values())\n",
        "  di2=dict(map(lambda x,y:(x,0.19*y+y),lista,lista2))\n",
        "  print(di2)"
      ],
      "metadata": {
        "id": "AT7bUYtjOWfa"
      },
      "execution_count": null,
      "outputs": []
    },
    {
      "cell_type": "code",
      "source": [
        "mercadolamb()"
      ],
      "metadata": {
        "colab": {
          "base_uri": "https://localhost:8080/"
        },
        "id": "i8pt33em6I9b",
        "outputId": "aec079e1-736f-4313-cf7c-8628aae6c3ef"
      },
      "execution_count": null,
      "outputs": [
        {
          "output_type": "stream",
          "name": "stdout",
          "text": [
            "{'milk': 0.8925000000000001, 'meat': 12.7211, 'eggs': 2.5466, 'bread': 1.2733}\n"
          ]
        }
      ]
    }
  ]
}